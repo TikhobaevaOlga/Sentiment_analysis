{
 "cells": [
  {
   "cell_type": "markdown",
   "metadata": {
    "toc": true
   },
   "source": [
    "<h1>Содержание<span class=\"tocSkip\"></span></h1>\n",
    "<div class=\"toc\"><ul class=\"toc-item\"><li><span><a href=\"#Подготовка-данных\" data-toc-modified-id=\"Подготовка-данных-1\"><span class=\"toc-item-num\">1&nbsp;&nbsp;</span>Подготовка данных</a></span><ul class=\"toc-item\"><li><span><a href=\"#Изучение-баланса-классов\" data-toc-modified-id=\"Изучение-баланса-классов-1.1\"><span class=\"toc-item-num\">1.1&nbsp;&nbsp;</span>Изучение баланса классов</a></span></li><li><span><a href=\"#Создание-признаков\" data-toc-modified-id=\"Создание-признаков-1.2\"><span class=\"toc-item-num\">1.2&nbsp;&nbsp;</span>Создание признаков</a></span></li></ul></li><li><span><a href=\"#Обучение\" data-toc-modified-id=\"Обучение-2\"><span class=\"toc-item-num\">2&nbsp;&nbsp;</span>Обучение</a></span></li><li><span><a href=\"#Тестирование-модели\" data-toc-modified-id=\"Тестирование-модели-3\"><span class=\"toc-item-num\">3&nbsp;&nbsp;</span>Тестирование модели</a></span></li><li><span><a href=\"#Общие-выводы-по-проекту\" data-toc-modified-id=\"Общие-выводы-по-проекту-4\"><span class=\"toc-item-num\">4&nbsp;&nbsp;</span>Общие выводы по проекту</a></span></li></ul></div>"
   ]
  },
  {
   "cell_type": "markdown",
   "metadata": {
    "id": "FgqzmWwsEBQK"
   },
   "source": [
    "# Сентимент-анализ комментариев. Проект для «Викишоп»"
   ]
  },
  {
   "cell_type": "markdown",
   "metadata": {
    "id": "CaI9pBEkEBQL"
   },
   "source": [
    "Интернет-магазин «Викишоп» запускает новый сервис. Теперь пользователи могут редактировать и дополнять описания товаров, как в вики-сообществах. То есть клиенты предлагают свои правки и комментируют изменения других. Магазину нужен инструмент, который будет искать токсичные комментарии и отправлять их на модерацию. \n",
    "\n",
    "Необходимо обучить модель классифицировать комментарии на позитивные и негативные. В нашем распоряжении набор данных с разметкой о токсичности правок.\n",
    "\n",
    "Нужно построить модель со значением метрики качества *F1* не меньше 0.75. \n",
    "\n",
    "**Описание данных**\n",
    "\n",
    "Данные находятся в файле `toxic_comments.csv`. Столбец *text* в нём содержит текст комментария, а *toxic* — целевой признак."
   ]
  },
  {
   "cell_type": "markdown",
   "metadata": {
    "id": "splxuJrAEBQN"
   },
   "source": [
    "## Подготовка данных"
   ]
  },
  {
   "cell_type": "code",
   "execution_count": 24,
   "metadata": {
    "id": "zY4OaYLKEBQO"
   },
   "outputs": [],
   "source": [
    "import re\n",
    "\n",
    "import pandas as pd\n",
    "import numpy as np\n",
    "import pandas as pd\n",
    "import matplotlib.pyplot as plt\n",
    "from tqdm import notebook\n",
    "\n",
    "import spacy\n",
    "import nltk\n",
    "from nltk.corpus import stopwords as nltk_stopwords\n",
    "from sklearn.feature_extraction.text import TfidfVectorizer\n",
    "\n",
    "import optuna\n",
    "from sklearn.model_selection import train_test_split\n",
    "\n",
    "from sklearn.linear_model import LogisticRegression, SGDClassifier\n",
    "from sklearn.ensemble import RandomForestClassifier\n",
    "\n",
    "from sklearn.metrics import f1_score"
   ]
  },
  {
   "cell_type": "code",
   "execution_count": 2,
   "metadata": {
    "id": "V3spxAThCgDs"
   },
   "outputs": [],
   "source": [
    "# загружаем данные\n",
    "try:\n",
    "    data = pd.read_csv('/datasets/toxic_comments.csv')\n",
    "except:\n",
    "    data = pd.read_csv('https://code.s3.yandex.net/datasets/toxic_comments.csv')"
   ]
  },
  {
   "cell_type": "code",
   "execution_count": 3,
   "metadata": {
    "colab": {
     "base_uri": "https://localhost:8080/"
    },
    "id": "j8pFTtWxCzrO",
    "outputId": "9dcf840f-5a07-425c-c61a-0d0257cb3efd"
   },
   "outputs": [
    {
     "name": "stdout",
     "output_type": "stream",
     "text": [
      "<class 'pandas.core.frame.DataFrame'>\n",
      "RangeIndex: 159292 entries, 0 to 159291\n",
      "Data columns (total 3 columns):\n",
      " #   Column      Non-Null Count   Dtype \n",
      "---  ------      --------------   ----- \n",
      " 0   Unnamed: 0  159292 non-null  int64 \n",
      " 1   text        159292 non-null  object\n",
      " 2   toxic       159292 non-null  int64 \n",
      "dtypes: int64(2), object(1)\n",
      "memory usage: 3.6+ MB\n"
     ]
    }
   ],
   "source": [
    "data.info()"
   ]
  },
  {
   "cell_type": "code",
   "execution_count": 4,
   "metadata": {
    "colab": {
     "base_uri": "https://localhost:8080/",
     "height": 204
    },
    "id": "Bf0P8tS0C3UP",
    "outputId": "8e4008dc-c077-4a44-a2b5-d9603e7950a0"
   },
   "outputs": [
    {
     "data": {
      "text/html": [
       "<div>\n",
       "<style scoped>\n",
       "    .dataframe tbody tr th:only-of-type {\n",
       "        vertical-align: middle;\n",
       "    }\n",
       "\n",
       "    .dataframe tbody tr th {\n",
       "        vertical-align: top;\n",
       "    }\n",
       "\n",
       "    .dataframe thead th {\n",
       "        text-align: right;\n",
       "    }\n",
       "</style>\n",
       "<table border=\"1\" class=\"dataframe\">\n",
       "  <thead>\n",
       "    <tr style=\"text-align: right;\">\n",
       "      <th></th>\n",
       "      <th>Unnamed: 0</th>\n",
       "      <th>text</th>\n",
       "      <th>toxic</th>\n",
       "    </tr>\n",
       "  </thead>\n",
       "  <tbody>\n",
       "    <tr>\n",
       "      <th>0</th>\n",
       "      <td>0</td>\n",
       "      <td>Explanation\\nWhy the edits made under my usern...</td>\n",
       "      <td>0</td>\n",
       "    </tr>\n",
       "    <tr>\n",
       "      <th>1</th>\n",
       "      <td>1</td>\n",
       "      <td>D'aww! He matches this background colour I'm s...</td>\n",
       "      <td>0</td>\n",
       "    </tr>\n",
       "    <tr>\n",
       "      <th>2</th>\n",
       "      <td>2</td>\n",
       "      <td>Hey man, I'm really not trying to edit war. It...</td>\n",
       "      <td>0</td>\n",
       "    </tr>\n",
       "    <tr>\n",
       "      <th>3</th>\n",
       "      <td>3</td>\n",
       "      <td>\"\\nMore\\nI can't make any real suggestions on ...</td>\n",
       "      <td>0</td>\n",
       "    </tr>\n",
       "    <tr>\n",
       "      <th>4</th>\n",
       "      <td>4</td>\n",
       "      <td>You, sir, are my hero. Any chance you remember...</td>\n",
       "      <td>0</td>\n",
       "    </tr>\n",
       "  </tbody>\n",
       "</table>\n",
       "</div>"
      ],
      "text/plain": [
       "   Unnamed: 0                                               text  toxic\n",
       "0           0  Explanation\\nWhy the edits made under my usern...      0\n",
       "1           1  D'aww! He matches this background colour I'm s...      0\n",
       "2           2  Hey man, I'm really not trying to edit war. It...      0\n",
       "3           3  \"\\nMore\\nI can't make any real suggestions on ...      0\n",
       "4           4  You, sir, are my hero. Any chance you remember...      0"
      ]
     },
     "execution_count": 4,
     "metadata": {},
     "output_type": "execute_result"
    }
   ],
   "source": [
    "data.head()"
   ]
  },
  {
   "cell_type": "code",
   "execution_count": 5,
   "metadata": {
    "id": "US_TWEAnDNwS"
   },
   "outputs": [],
   "source": [
    "# уберем столбец дублирующий индексы\n",
    "data = data.drop('Unnamed: 0', axis=1)"
   ]
  },
  {
   "cell_type": "code",
   "execution_count": 7,
   "metadata": {},
   "outputs": [],
   "source": [
    "# случайно отберем половину выборки, чтобы ускорить получения признаков и обучение\n",
    "data = data.sample(n=(data.shape[0] // 2)).reset_index(drop=True)"
   ]
  },
  {
   "cell_type": "code",
   "execution_count": 9,
   "metadata": {},
   "outputs": [
    {
     "name": "stdout",
     "output_type": "stream",
     "text": [
      "<class 'pandas.core.frame.DataFrame'>\n",
      "RangeIndex: 79646 entries, 0 to 79645\n",
      "Data columns (total 2 columns):\n",
      " #   Column  Non-Null Count  Dtype \n",
      "---  ------  --------------  ----- \n",
      " 0   text    79646 non-null  object\n",
      " 1   toxic   79646 non-null  int64 \n",
      "dtypes: int64(1), object(1)\n",
      "memory usage: 1.2+ MB\n"
     ]
    }
   ],
   "source": [
    "data.info()"
   ]
  },
  {
   "cell_type": "markdown",
   "metadata": {
    "id": "BCudPr8obCnv"
   },
   "source": [
    "### Изучение баланса классов"
   ]
  },
  {
   "cell_type": "code",
   "execution_count": 8,
   "metadata": {
    "colab": {
     "base_uri": "https://localhost:8080/",
     "height": 278
    },
    "id": "BMLhLDAURSQP",
    "outputId": "7a0226bc-0be9-490f-dcf2-3b929914ec45"
   },
   "outputs": [
    {
     "data": {
      "image/png": "[encoded data removed]",
      "text/plain": [
       "<Figure size 432x288 with 1 Axes>"
      ]
     },
     "metadata": {
      "needs_background": "light"
     },
     "output_type": "display_data"
    }
   ],
   "source": [
    "data['toxic'].value_counts().plot(kind='bar')\n",
    "plt.title(\"Распределение нетоксичных (0) и токсичных (1) комментариев\")\n",
    "plt.ylabel(\"кол-во комментариев\")\n",
    "plt.show()"
   ]
  },
  {
   "cell_type": "markdown",
   "metadata": {
    "id": "OjxGI3C47BjZ"
   },
   "source": [
    "Присутствует **явный дисбаланс классов (классы отличаются примерно в 7 раз)**, который, возможно, будет негативно влиять на качество обучения."
   ]
  },
  {
   "cell_type": "markdown",
   "metadata": {},
   "source": [
    "### Создание признаков"
   ]
  },
  {
   "cell_type": "markdown",
   "metadata": {},
   "source": [
    "**Лемматизация и очистка текста**"
   ]
  },
  {
   "cell_type": "code",
   "execution_count": 10,
   "metadata": {},
   "outputs": [],
   "source": [
    "# создадим языковой объект spacy\n",
    "nlp = spacy.load(\"en_core_web_sm\") "
   ]
  },
  {
   "cell_type": "code",
   "execution_count": 11,
   "metadata": {
    "scrolled": true
   },
   "outputs": [],
   "source": [
    "def lemmatize(text): \n",
    "    global nlp # cоздаем языковой объект для текущей строки \n",
    "    doc = nlp(text) \n",
    "    \n",
    "    return \" \".join([token.lemma_ for token in doc]) # получаем список с леммами и склеиваем их в строку "
   ]
  },
  {
   "cell_type": "code",
   "execution_count": 12,
   "metadata": {},
   "outputs": [],
   "source": [
    "def clear_text(text):\n",
    "    clear_text = re.sub(r'[^a-zA-Z]', ' ', text)\n",
    "    return \" \".join(clear_text.split())"
   ]
  },
  {
   "cell_type": "code",
   "execution_count": 13,
   "metadata": {},
   "outputs": [
    {
     "data": {
      "application/vnd.jupyter.widget-view+json": {
       "model_id": "f3d608e271d240768e888dd8fe9d4974",
       "version_major": 2,
       "version_minor": 0
      },
      "text/plain": [
       "  0%|          | 0/5689 [00:00<?, ?it/s]"
      ]
     },
     "metadata": {},
     "output_type": "display_data"
    }
   ],
   "source": [
    "batch_size = 14\n",
    "corpus = pd.Series(dtype='object')\n",
    "for i in notebook.tqdm(range(data['text'].shape[0] // batch_size)):\n",
    "        batch = data['text'][batch_size*i:batch_size*(i+1)]\n",
    "        batch_lemm_text = batch.apply(lemmatize)\n",
    "        batch_lemm_text = batch_lemm_text.apply(clear_text)\n",
    "        corpus = pd.concat([corpus, batch_lemm_text]).reset_index(drop=True)"
   ]
  },
  {
   "cell_type": "code",
   "execution_count": 14,
   "metadata": {},
   "outputs": [
    {
     "name": "stdout",
     "output_type": "stream",
     "text": [
      "Исходный текст: \"mentioned as of when RED deamed it mentionable. and he buried in the \"\"have been or are available\"\" bull line. Gummies are gone, not acceptable to have them in the boxed area w/ OUTDATED not available anymore information. SO yesterday when the soft chewable informat as Tracy said is a few clicks apparent. Red, and please dont' take this personally or as an attack. WHY do you insist on keeping non-current, out of date OLD information out there? Living in yesterday isn't very Wiki, this is hip, new, up to date site, unless of course the article is one someone dead and then there obviously wouldn't be new activity to update.......strange in deed.the all knowing \n",
      "\n",
      "\"\n",
      "Очищенный и лемматизированный текст: mention as of when RED deame it mentionable and he bury in the have be or be available bull line gummie be go not acceptable to have they in the boxed area w outdate not available anymore information so yesterday when the soft chewable informat as Tracy say be a few click apparent red and please do not take this personally or as an attack why do you insist on keep non current out of date old information out there live in yesterday be not very Wiki this be hip new up to date site unless of course the article be one someone dead and then there obviously would not be new activity to update strange in deed the all know\n"
     ]
    }
   ],
   "source": [
    "# посмотрим как лемматизировался текст\n",
    "print(\"Исходный текст:\", data['text'][0])\n",
    "print(\"Очищенный и лемматизированный текст:\", corpus[0])"
   ]
  },
  {
   "cell_type": "markdown",
   "metadata": {},
   "source": [
    "**Разделение данные на выборки**"
   ]
  },
  {
   "cell_type": "code",
   "execution_count": 71,
   "metadata": {},
   "outputs": [],
   "source": [
    "text_train, text_test_val, target_train, target_test_val = train_test_split(\n",
    "    corpus, data['toxic'], test_size=0.4, stratify=data['toxic']) "
   ]
  },
  {
   "cell_type": "code",
   "execution_count": 72,
   "metadata": {},
   "outputs": [],
   "source": [
    "text_val, text_test, target_val, target_test = train_test_split(\n",
    "    text_test_val, target_test_val, test_size=0.5, stratify=target_test_val) "
   ]
  },
  {
   "cell_type": "code",
   "execution_count": 73,
   "metadata": {},
   "outputs": [
    {
     "name": "stdout",
     "output_type": "stream",
     "text": [
      "(47787,) (47787,)\n",
      "(15929,) (15929,)\n",
      "(15930,) (15930,)\n"
     ]
    }
   ],
   "source": [
    "print(text_train.shape, target_train.shape)\n",
    "print(text_val.shape, target_val.shape)\n",
    "print(text_test.shape, target_test.shape)"
   ]
  },
  {
   "cell_type": "markdown",
   "metadata": {},
   "source": [
    "**Получение матрицы TF-IDF**"
   ]
  },
  {
   "cell_type": "code",
   "execution_count": 74,
   "metadata": {},
   "outputs": [
    {
     "name": "stderr",
     "output_type": "stream",
     "text": [
      "[nltk_data] Downloading package stopwords to /Users/olga/nltk_data...\n",
      "[nltk_data]   Package stopwords is already up-to-date!\n"
     ]
    }
   ],
   "source": [
    "nltk.download('stopwords')\n",
    "stopwords = set(nltk_stopwords.words('english'))\n",
    "count_tf_idf = TfidfVectorizer(stop_words=stopwords)"
   ]
  },
  {
   "cell_type": "code",
   "execution_count": 75,
   "metadata": {},
   "outputs": [],
   "source": [
    "tf_idf_train = count_tf_idf.fit_transform(text_train.values)\n",
    "tf_idf_val = count_tf_idf.transform(text_val.values)\n",
    "tf_idf_test = count_tf_idf.transform(text_test.values)"
   ]
  },
  {
   "cell_type": "code",
   "execution_count": 76,
   "metadata": {},
   "outputs": [
    {
     "name": "stdout",
     "output_type": "stream",
     "text": [
      "(47787, 76257)\n",
      "(15929, 76257)\n",
      "(15930, 76257)\n"
     ]
    }
   ],
   "source": [
    "print(tf_idf_train.shape)\n",
    "print(tf_idf_val.shape)\n",
    "print(tf_idf_test.shape)"
   ]
  },
  {
   "cell_type": "markdown",
   "metadata": {
    "id": "zXcrGbWYEBQO"
   },
   "source": [
    "## Обучение"
   ]
  },
  {
   "cell_type": "markdown",
   "metadata": {
    "id": "qJuqwJNqA534"
   },
   "source": [
    "В процессе обучения будем использовать **Optuna — фреймворк для для автоматизированного поиска оптимальных гиперпараметров для моделей машинного обучения**. Данный инструмент значительно увеличивает скорость перебора гиперпараметров.\n",
    "\n",
    "Для каждой модели добавлен гиперпараметр \"class_weight\" для борьбы с дисбалансом."
   ]
  },
  {
   "cell_type": "code",
   "execution_count": 82,
   "metadata": {
    "colab": {
     "base_uri": "https://localhost:8080/"
    },
    "id": "YENdcWWhzwE_",
    "outputId": "c4e54cf5-a24c-48e5-c18c-7ec06fb3b410"
   },
   "outputs": [
    {
     "name": "stderr",
     "output_type": "stream",
     "text": [
      "\u001b[32m[I 2023-01-29 17:42:06,331]\u001b[0m A new study created in memory with name: no-name-d61985be-4d05-49c2-8d0b-3b9b161c0dce\u001b[0m\n",
      "/opt/anaconda3/lib/python3.9/site-packages/sklearn/linear_model/_logistic.py:1113: UserWarning: Setting penalty='none' will ignore the C and l1_ratio parameters\n",
      "  warnings.warn(\n",
      "\u001b[32m[I 2023-01-29 17:42:09,659]\u001b[0m Trial 0 finished with value: 0.7051597051597053 and parameters: {'classifier': 'LogReg', 'С': 677867.6562530332, 'class_weight': 'balanced', 'penalty': 'none'}. Best is trial 0 with value: 0.7051597051597053.\u001b[0m\n",
      "\u001b[32m[I 2023-01-29 17:42:12,310]\u001b[0m Trial 1 finished with value: 0.37615057013326003 and parameters: {'classifier': 'RandomForest', 'n_estimators': 200, 'max_depth': 8, 'class_weight': 'balanced'}. Best is trial 0 with value: 0.7051597051597053.\u001b[0m\n",
      "\u001b[32m[I 2023-01-29 17:42:15,385]\u001b[0m Trial 2 finished with value: 0.38273868283739954 and parameters: {'classifier': 'RandomForest', 'n_estimators': 200, 'max_depth': 11, 'class_weight': 'balanced'}. Best is trial 0 with value: 0.7051597051597053.\u001b[0m\n",
      "/opt/anaconda3/lib/python3.9/site-packages/sklearn/linear_model/_logistic.py:1113: UserWarning: Setting penalty='none' will ignore the C and l1_ratio parameters\n",
      "  warnings.warn(\n",
      "\u001b[32m[I 2023-01-29 17:42:18,732]\u001b[0m Trial 3 finished with value: 0.7051597051597053 and parameters: {'classifier': 'LogReg', 'С': 5.678429350514886, 'class_weight': 'balanced', 'penalty': 'none'}. Best is trial 0 with value: 0.7051597051597053.\u001b[0m\n",
      "\u001b[32m[I 2023-01-29 17:42:19,549]\u001b[0m Trial 4 finished with value: 0.7185709470845973 and parameters: {'classifier': 'SGDClassifier', 'eta0': 0.6977640156407705, 'class_weight': None, 'loss': 'squared_hinge'}. Best is trial 4 with value: 0.7185709470845973.\u001b[0m\n",
      "\u001b[32m[I 2023-01-29 17:42:22,632]\u001b[0m Trial 5 finished with value: 0.7298268539692911 and parameters: {'classifier': 'LogReg', 'С': 1061279173.6475929, 'class_weight': None, 'penalty': 'l2'}. Best is trial 5 with value: 0.7298268539692911.\u001b[0m\n",
      "\u001b[32m[I 2023-01-29 17:42:25,338]\u001b[0m Trial 6 finished with value: 0.0 and parameters: {'classifier': 'RandomForest', 'n_estimators': 250, 'max_depth': 5, 'class_weight': None}. Best is trial 5 with value: 0.7298268539692911.\u001b[0m\n",
      "\u001b[32m[I 2023-01-29 17:42:26,778]\u001b[0m Trial 7 finished with value: 0.0 and parameters: {'classifier': 'LogReg', 'С': 1.4523341554778828e-06, 'class_weight': None, 'penalty': 'l2'}. Best is trial 5 with value: 0.7298268539692911.\u001b[0m\n",
      "\u001b[32m[I 2023-01-29 17:42:28,315]\u001b[0m Trial 8 finished with value: 0.345166163141994 and parameters: {'classifier': 'RandomForest', 'n_estimators': 150, 'max_depth': 3, 'class_weight': 'balanced'}. Best is trial 5 with value: 0.7298268539692911.\u001b[0m\n",
      "\u001b[32m[I 2023-01-29 17:42:28,661]\u001b[0m Trial 9 finished with value: 0.7414084507042255 and parameters: {'classifier': 'SGDClassifier', 'eta0': 0.7711674597046396, 'class_weight': 'balanced', 'loss': 'modified_huber'}. Best is trial 9 with value: 0.7414084507042255.\u001b[0m\n",
      "\u001b[32m[I 2023-01-29 17:42:28,994]\u001b[0m Trial 10 finished with value: 0.7414084507042255 and parameters: {'classifier': 'SGDClassifier', 'eta0': 0.9711300101646327, 'class_weight': 'balanced', 'loss': 'modified_huber'}. Best is trial 9 with value: 0.7414084507042255.\u001b[0m\n",
      "\u001b[32m[I 2023-01-29 17:42:29,375]\u001b[0m Trial 11 finished with value: 0.7414084507042255 and parameters: {'classifier': 'SGDClassifier', 'eta0': 0.9984628593103086, 'class_weight': 'balanced', 'loss': 'modified_huber'}. Best is trial 9 with value: 0.7414084507042255.\u001b[0m\n",
      "\u001b[32m[I 2023-01-29 17:42:29,710]\u001b[0m Trial 12 finished with value: 0.7414084507042255 and parameters: {'classifier': 'SGDClassifier', 'eta0': 0.9255016802077258, 'class_weight': 'balanced', 'loss': 'modified_huber'}. Best is trial 9 with value: 0.7414084507042255.\u001b[0m\n",
      "\u001b[32m[I 2023-01-29 17:42:30,173]\u001b[0m Trial 13 finished with value: 0.7414084507042255 and parameters: {'classifier': 'SGDClassifier', 'eta0': 0.2781354616053783, 'class_weight': 'balanced', 'loss': 'modified_huber'}. Best is trial 9 with value: 0.7414084507042255.\u001b[0m\n",
      "\u001b[32m[I 2023-01-29 17:42:30,779]\u001b[0m Trial 14 finished with value: 0.7306957708049112 and parameters: {'classifier': 'SGDClassifier', 'eta0': 0.6922687375981249, 'class_weight': 'balanced', 'loss': 'hinge'}. Best is trial 9 with value: 0.7414084507042255.\u001b[0m\n",
      "/opt/anaconda3/lib/python3.9/site-packages/sklearn/linear_model/_stochastic_gradient.py:173: FutureWarning: The loss 'log' was deprecated in v1.1 and will be removed in version 1.3. Use `loss='log_loss'` which is equivalent.\n",
      "  warnings.warn(\n",
      "\u001b[32m[I 2023-01-29 17:42:31,238]\u001b[0m Trial 15 finished with value: 0.699447804364975 and parameters: {'classifier': 'SGDClassifier', 'eta0': 0.027585820434652075, 'class_weight': 'balanced', 'loss': 'log'}. Best is trial 9 with value: 0.7414084507042255.\u001b[0m\n",
      "\u001b[32m[I 2023-01-29 17:42:31,582]\u001b[0m Trial 16 finished with value: 0.7414084507042255 and parameters: {'classifier': 'SGDClassifier', 'eta0': 0.7868639340309417, 'class_weight': 'balanced', 'loss': 'modified_huber'}. Best is trial 9 with value: 0.7414084507042255.\u001b[0m\n",
      "\u001b[32m[I 2023-01-29 17:42:31,944]\u001b[0m Trial 17 finished with value: 0.7414084507042255 and parameters: {'classifier': 'SGDClassifier', 'eta0': 0.9946719928779839, 'class_weight': 'balanced', 'loss': 'modified_huber'}. Best is trial 9 with value: 0.7414084507042255.\u001b[0m\n",
      "\u001b[32m[I 2023-01-29 17:42:32,115]\u001b[0m Trial 18 finished with value: 0.6470831609433182 and parameters: {'classifier': 'SGDClassifier', 'eta0': 0.547538816250478, 'class_weight': None, 'loss': 'hinge'}. Best is trial 9 with value: 0.7414084507042255.\u001b[0m\n",
      "/opt/anaconda3/lib/python3.9/site-packages/sklearn/linear_model/_stochastic_gradient.py:173: FutureWarning: The loss 'log' was deprecated in v1.1 and will be removed in version 1.3. Use `loss='log_loss'` which is equivalent.\n",
      "  warnings.warn(\n",
      "\u001b[32m[I 2023-01-29 17:42:32,563]\u001b[0m Trial 19 finished with value: 0.699447804364975 and parameters: {'classifier': 'SGDClassifier', 'eta0': 0.8101802814132738, 'class_weight': 'balanced', 'loss': 'log'}. Best is trial 9 with value: 0.7414084507042255.\u001b[0m\n",
      "/opt/anaconda3/lib/python3.9/site-packages/sklearn/linear_model/_stochastic_gradient.py:705: ConvergenceWarning: Maximum number of iteration reached before convergence. Consider increasing max_iter to improve the fit.\n",
      "  warnings.warn(\n",
      "\u001b[32m[I 2023-01-29 17:42:47,317]\u001b[0m Trial 20 finished with value: 0.6936114732724902 and parameters: {'classifier': 'SGDClassifier', 'eta0': 0.8467465171880346, 'class_weight': 'balanced', 'loss': 'squared_hinge'}. Best is trial 9 with value: 0.7414084507042255.\u001b[0m\n",
      "\u001b[32m[I 2023-01-29 17:42:47,672]\u001b[0m Trial 21 finished with value: 0.7414084507042255 and parameters: {'classifier': 'SGDClassifier', 'eta0': 0.9986336154779966, 'class_weight': 'balanced', 'loss': 'modified_huber'}. Best is trial 9 with value: 0.7414084507042255.\u001b[0m\n",
      "\u001b[32m[I 2023-01-29 17:42:48,015]\u001b[0m Trial 22 finished with value: 0.7414084507042255 and parameters: {'classifier': 'SGDClassifier', 'eta0': 0.9086525785405354, 'class_weight': 'balanced', 'loss': 'modified_huber'}. Best is trial 9 with value: 0.7414084507042255.\u001b[0m\n",
      "\u001b[32m[I 2023-01-29 17:42:48,354]\u001b[0m Trial 23 finished with value: 0.7414084507042255 and parameters: {'classifier': 'SGDClassifier', 'eta0': 0.9912476176083348, 'class_weight': 'balanced', 'loss': 'modified_huber'}. Best is trial 9 with value: 0.7414084507042255.\u001b[0m\n",
      "\u001b[32m[I 2023-01-29 17:42:48,705]\u001b[0m Trial 24 finished with value: 0.7414084507042255 and parameters: {'classifier': 'SGDClassifier', 'eta0': 0.8402586192654053, 'class_weight': 'balanced', 'loss': 'modified_huber'}. Best is trial 9 with value: 0.7414084507042255.\u001b[0m\n",
      "\u001b[32m[I 2023-01-29 17:42:49,042]\u001b[0m Trial 25 finished with value: 0.7414084507042255 and parameters: {'classifier': 'SGDClassifier', 'eta0': 0.7159807164176988, 'class_weight': 'balanced', 'loss': 'modified_huber'}. Best is trial 9 with value: 0.7414084507042255.\u001b[0m\n",
      "\u001b[32m[I 2023-01-29 17:42:49,386]\u001b[0m Trial 26 finished with value: 0.7414084507042255 and parameters: {'classifier': 'SGDClassifier', 'eta0': 0.8942709756028798, 'class_weight': 'balanced', 'loss': 'modified_huber'}. Best is trial 9 with value: 0.7414084507042255.\u001b[0m\n"
     ]
    },
    {
     "name": "stderr",
     "output_type": "stream",
     "text": [
      "/opt/anaconda3/lib/python3.9/site-packages/sklearn/linear_model/_logistic.py:1113: UserWarning: Setting penalty='none' will ignore the C and l1_ratio parameters\n",
      "  warnings.warn(\n",
      "\u001b[32m[I 2023-01-29 17:42:52,793]\u001b[0m Trial 27 finished with value: 0.7308948399738733 and parameters: {'classifier': 'LogReg', 'С': 1.4423570498891912e-10, 'class_weight': None, 'penalty': 'none'}. Best is trial 9 with value: 0.7414084507042255.\u001b[0m\n",
      "\u001b[32m[I 2023-01-29 17:42:53,727]\u001b[0m Trial 28 finished with value: 0.3280811041895688 and parameters: {'classifier': 'RandomForest', 'n_estimators': 100, 'max_depth': 2, 'class_weight': 'balanced'}. Best is trial 9 with value: 0.7414084507042255.\u001b[0m\n",
      "/opt/anaconda3/lib/python3.9/site-packages/sklearn/linear_model/_stochastic_gradient.py:173: FutureWarning: The loss 'log' was deprecated in v1.1 and will be removed in version 1.3. Use `loss='log_loss'` which is equivalent.\n",
      "  warnings.warn(\n",
      "\u001b[32m[I 2023-01-29 17:42:54,195]\u001b[0m Trial 29 finished with value: 0.699447804364975 and parameters: {'classifier': 'SGDClassifier', 'eta0': 0.603219054285566, 'class_weight': 'balanced', 'loss': 'log'}. Best is trial 9 with value: 0.7414084507042255.\u001b[0m\n",
      "\u001b[32m[I 2023-01-29 17:42:55,575]\u001b[0m Trial 30 finished with value: 0.7105052125100241 and parameters: {'classifier': 'LogReg', 'С': 0.3235309556027628, 'class_weight': 'balanced', 'penalty': 'l2'}. Best is trial 9 with value: 0.7414084507042255.\u001b[0m\n",
      "\u001b[32m[I 2023-01-29 17:42:55,898]\u001b[0m Trial 31 finished with value: 0.7414084507042255 and parameters: {'classifier': 'SGDClassifier', 'eta0': 0.9079824389661423, 'class_weight': 'balanced', 'loss': 'modified_huber'}. Best is trial 9 with value: 0.7414084507042255.\u001b[0m\n",
      "\u001b[32m[I 2023-01-29 17:42:56,259]\u001b[0m Trial 32 finished with value: 0.7414084507042255 and parameters: {'classifier': 'SGDClassifier', 'eta0': 0.9156775735364432, 'class_weight': 'balanced', 'loss': 'modified_huber'}. Best is trial 9 with value: 0.7414084507042255.\u001b[0m\n",
      "\u001b[32m[I 2023-01-29 17:42:56,997]\u001b[0m Trial 33 finished with value: 0.7414084507042255 and parameters: {'classifier': 'SGDClassifier', 'eta0': 0.9964594448028389, 'class_weight': 'balanced', 'loss': 'modified_huber'}. Best is trial 9 with value: 0.7414084507042255.\u001b[0m\n",
      "\u001b[32m[I 2023-01-29 17:43:00,316]\u001b[0m Trial 34 finished with value: 0.3767585818795723 and parameters: {'classifier': 'RandomForest', 'n_estimators': 100, 'max_depth': 13, 'class_weight': 'balanced'}. Best is trial 9 with value: 0.7414084507042255.\u001b[0m\n",
      "\u001b[32m[I 2023-01-29 17:43:00,771]\u001b[0m Trial 35 finished with value: 0.7414084507042255 and parameters: {'classifier': 'SGDClassifier', 'eta0': 0.7784581084400206, 'class_weight': 'balanced', 'loss': 'modified_huber'}. Best is trial 9 with value: 0.7414084507042255.\u001b[0m\n",
      "/opt/anaconda3/lib/python3.9/site-packages/sklearn/linear_model/_stochastic_gradient.py:705: ConvergenceWarning: Maximum number of iteration reached before convergence. Consider increasing max_iter to improve the fit.\n",
      "  warnings.warn(\n",
      "\u001b[32m[I 2023-01-29 17:43:18,377]\u001b[0m Trial 36 finished with value: 0.6936114732724902 and parameters: {'classifier': 'SGDClassifier', 'eta0': 0.9099553373626224, 'class_weight': 'balanced', 'loss': 'squared_hinge'}. Best is trial 9 with value: 0.7414084507042255.\u001b[0m\n",
      "/opt/anaconda3/lib/python3.9/site-packages/sklearn/linear_model/_logistic.py:1113: UserWarning: Setting penalty='none' will ignore the C and l1_ratio parameters\n",
      "  warnings.warn(\n",
      "/opt/anaconda3/lib/python3.9/site-packages/sklearn/linear_model/_logistic.py:444: ConvergenceWarning: lbfgs failed to converge (status=1):\n",
      "STOP: TOTAL NO. of ITERATIONS REACHED LIMIT.\n",
      "\n",
      "Increase the number of iterations (max_iter) or scale the data as shown in:\n",
      "    https://scikit-learn.org/stable/modules/preprocessing.html\n",
      "Please also refer to the documentation for alternative solver options:\n",
      "    https://scikit-learn.org/stable/modules/linear_model.html#logistic-regression\n",
      "  n_iter_i = _check_optimize_result(\n",
      "\u001b[32m[I 2023-01-29 17:43:21,747]\u001b[0m Trial 37 finished with value: 0.7308948399738733 and parameters: {'classifier': 'LogReg', 'С': 3288264344.070811, 'class_weight': None, 'penalty': 'none'}. Best is trial 9 with value: 0.7414084507042255.\u001b[0m\n",
      "\u001b[32m[I 2023-01-29 17:43:24,335]\u001b[0m Trial 38 finished with value: 0.3434673366834171 and parameters: {'classifier': 'RandomForest', 'n_estimators': 250, 'max_depth': 2, 'class_weight': 'balanced'}. Best is trial 9 with value: 0.7414084507042255.\u001b[0m\n",
      "\u001b[32m[I 2023-01-29 17:43:24,504]\u001b[0m Trial 39 finished with value: 0.6470831609433182 and parameters: {'classifier': 'SGDClassifier', 'eta0': 0.8379569023626667, 'class_weight': None, 'loss': 'hinge'}. Best is trial 9 with value: 0.7414084507042255.\u001b[0m\n",
      "\u001b[32m[I 2023-01-29 17:43:24,839]\u001b[0m Trial 40 finished with value: 0.7414084507042255 and parameters: {'classifier': 'SGDClassifier', 'eta0': 0.9339494855711179, 'class_weight': 'balanced', 'loss': 'modified_huber'}. Best is trial 9 with value: 0.7414084507042255.\u001b[0m\n",
      "\u001b[32m[I 2023-01-29 17:43:25,237]\u001b[0m Trial 41 finished with value: 0.7414084507042255 and parameters: {'classifier': 'SGDClassifier', 'eta0': 0.28744318420957043, 'class_weight': 'balanced', 'loss': 'modified_huber'}. Best is trial 9 with value: 0.7414084507042255.\u001b[0m\n",
      "\u001b[32m[I 2023-01-29 17:43:25,697]\u001b[0m Trial 42 finished with value: 0.7414084507042255 and parameters: {'classifier': 'SGDClassifier', 'eta0': 0.43668535225950317, 'class_weight': 'balanced', 'loss': 'modified_huber'}. Best is trial 9 with value: 0.7414084507042255.\u001b[0m\n",
      "\u001b[32m[I 2023-01-29 17:43:26,063]\u001b[0m Trial 43 finished with value: 0.7414084507042255 and parameters: {'classifier': 'SGDClassifier', 'eta0': 0.9275016703453584, 'class_weight': 'balanced', 'loss': 'modified_huber'}. Best is trial 9 with value: 0.7414084507042255.\u001b[0m\n",
      "\u001b[32m[I 2023-01-29 17:43:26,460]\u001b[0m Trial 44 finished with value: 0.7414084507042255 and parameters: {'classifier': 'SGDClassifier', 'eta0': 0.8579909293684048, 'class_weight': 'balanced', 'loss': 'modified_huber'}. Best is trial 9 with value: 0.7414084507042255.\u001b[0m\n",
      "\u001b[32m[I 2023-01-29 17:43:30,301]\u001b[0m Trial 45 finished with value: 0.7461395923409513 and parameters: {'classifier': 'LogReg', 'С': 68.98739123432766, 'class_weight': 'balanced', 'penalty': 'l2'}. Best is trial 45 with value: 0.7461395923409513.\u001b[0m\n",
      "\u001b[32m[I 2023-01-29 17:43:33,800]\u001b[0m Trial 46 finished with value: 0.7516576250753465 and parameters: {'classifier': 'LogReg', 'С': 13.990690966515858, 'class_weight': 'balanced', 'penalty': 'l2'}. Best is trial 46 with value: 0.7516576250753465.\u001b[0m\n",
      "\u001b[32m[I 2023-01-29 17:43:37,053]\u001b[0m Trial 47 finished with value: 0.7542110690959093 and parameters: {'classifier': 'LogReg', 'С': 102.17981904635468, 'class_weight': None, 'penalty': 'l2'}. Best is trial 47 with value: 0.7542110690959093.\u001b[0m\n",
      "\u001b[32m[I 2023-01-29 17:43:40,554]\u001b[0m Trial 48 finished with value: 0.7561059511523908 and parameters: {'classifier': 'LogReg', 'С': 99.54032849543864, 'class_weight': None, 'penalty': 'l2'}. Best is trial 48 with value: 0.7561059511523908.\u001b[0m\n",
      "\u001b[32m[I 2023-01-29 17:43:44,193]\u001b[0m Trial 49 finished with value: 0.7524956970740102 and parameters: {'classifier': 'LogReg', 'С': 91.6310550016473, 'class_weight': None, 'penalty': 'l2'}. Best is trial 48 with value: 0.7561059511523908.\u001b[0m\n",
      "\u001b[32m[I 2023-01-29 17:43:47,808]\u001b[0m Trial 50 finished with value: 0.7427019687712152 and parameters: {'classifier': 'LogReg', 'С': 230.9083490162005, 'class_weight': None, 'penalty': 'l2'}. Best is trial 48 with value: 0.7561059511523908.\u001b[0m\n",
      "\u001b[32m[I 2023-01-29 17:43:51,082]\u001b[0m Trial 51 finished with value: 0.7532826537664132 and parameters: {'classifier': 'LogReg', 'С': 63.66166885086524, 'class_weight': None, 'penalty': 'l2'}. Best is trial 48 with value: 0.7561059511523908.\u001b[0m\n",
      "\u001b[32m[I 2023-01-29 17:43:54,339]\u001b[0m Trial 52 finished with value: 0.7520604395604396 and parameters: {'classifier': 'LogReg', 'С': 104.97863234407316, 'class_weight': None, 'penalty': 'l2'}. Best is trial 48 with value: 0.7561059511523908.\u001b[0m\n",
      "\u001b[32m[I 2023-01-29 17:43:57,826]\u001b[0m Trial 53 finished with value: 0.7518796992481203 and parameters: {'classifier': 'LogReg', 'С': 108.33342273305676, 'class_weight': None, 'penalty': 'l2'}. Best is trial 48 with value: 0.7561059511523908.\u001b[0m\n"
     ]
    },
    {
     "name": "stderr",
     "output_type": "stream",
     "text": [
      "\u001b[32m[I 2023-01-29 17:44:01,145]\u001b[0m Trial 54 finished with value: 0.7348307073416024 and parameters: {'classifier': 'LogReg', 'С': 1092.9864866572282, 'class_weight': None, 'penalty': 'l2'}. Best is trial 48 with value: 0.7561059511523908.\u001b[0m\n",
      "\u001b[32m[I 2023-01-29 17:44:04,610]\u001b[0m Trial 55 finished with value: 0.7292707292707293 and parameters: {'classifier': 'LogReg', 'С': 5780.630836686447, 'class_weight': None, 'penalty': 'l2'}. Best is trial 48 with value: 0.7561059511523908.\u001b[0m\n",
      "\u001b[32m[I 2023-01-29 17:44:06,774]\u001b[0m Trial 56 finished with value: 0.5903614457831325 and parameters: {'classifier': 'LogReg', 'С': 0.4139192232563392, 'class_weight': None, 'penalty': 'l2'}. Best is trial 48 with value: 0.7561059511523908.\u001b[0m\n",
      "\u001b[32m[I 2023-01-29 17:44:10,209]\u001b[0m Trial 57 finished with value: 0.7286615742278313 and parameters: {'classifier': 'LogReg', 'С': 4876.012727525691, 'class_weight': None, 'penalty': 'l2'}. Best is trial 48 with value: 0.7561059511523908.\u001b[0m\n",
      "\u001b[32m[I 2023-01-29 17:44:13,102]\u001b[0m Trial 58 finished with value: 0.6869806094182825 and parameters: {'classifier': 'LogReg', 'С': 1.1496115455652414, 'class_weight': None, 'penalty': 'l2'}. Best is trial 48 with value: 0.7561059511523908.\u001b[0m\n",
      "\u001b[32m[I 2023-01-29 17:44:16,337]\u001b[0m Trial 59 finished with value: 0.7468483816013628 and parameters: {'classifier': 'LogReg', 'С': 157.19258431237716, 'class_weight': None, 'penalty': 'l2'}. Best is trial 48 with value: 0.7561059511523908.\u001b[0m\n",
      "\u001b[32m[I 2023-01-29 17:44:19,503]\u001b[0m Trial 60 finished with value: 0.7322730284956925 and parameters: {'classifier': 'LogReg', 'С': 12509.343698684022, 'class_weight': None, 'penalty': 'l2'}. Best is trial 48 with value: 0.7561059511523908.\u001b[0m\n",
      "\u001b[32m[I 2023-01-29 17:44:22,786]\u001b[0m Trial 61 finished with value: 0.7563325008919015 and parameters: {'classifier': 'LogReg', 'С': 9.46354626815391, 'class_weight': None, 'penalty': 'l2'}. Best is trial 61 with value: 0.7563325008919015.\u001b[0m\n",
      "\u001b[32m[I 2023-01-29 17:44:26,052]\u001b[0m Trial 62 finished with value: 0.7578207381370827 and parameters: {'classifier': 'LogReg', 'С': 20.16081850964027, 'class_weight': None, 'penalty': 'l2'}. Best is trial 62 with value: 0.7578207381370827.\u001b[0m\n",
      "\u001b[32m[I 2023-01-29 17:44:29,247]\u001b[0m Trial 63 finished with value: 0.7058365758754864 and parameters: {'classifier': 'LogReg', 'С': 1.5338438353534165, 'class_weight': None, 'penalty': 'l2'}. Best is trial 62 with value: 0.7578207381370827.\u001b[0m\n",
      "\u001b[32m[I 2023-01-29 17:44:32,647]\u001b[0m Trial 64 finished with value: 0.7558718861209964 and parameters: {'classifier': 'LogReg', 'С': 11.161208000737133, 'class_weight': None, 'penalty': 'l2'}. Best is trial 62 with value: 0.7578207381370827.\u001b[0m\n",
      "\u001b[32m[I 2023-01-29 17:44:34,805]\u001b[0m Trial 65 finished with value: 0.5675438596491228 and parameters: {'classifier': 'LogReg', 'С': 0.3562861774426021, 'class_weight': None, 'penalty': 'l2'}. Best is trial 62 with value: 0.7578207381370827.\u001b[0m\n",
      "\u001b[32m[I 2023-01-29 17:44:36,122]\u001b[0m Trial 66 finished with value: 0.20335195530726258 and parameters: {'classifier': 'LogReg', 'С': 0.049597404579160835, 'class_weight': None, 'penalty': 'l2'}. Best is trial 62 with value: 0.7578207381370827.\u001b[0m\n",
      "\u001b[32m[I 2023-01-29 17:44:39,681]\u001b[0m Trial 67 finished with value: 0.7476363636363637 and parameters: {'classifier': 'LogReg', 'С': 5.55571128292619, 'class_weight': None, 'penalty': 'l2'}. Best is trial 62 with value: 0.7578207381370827.\u001b[0m\n",
      "\u001b[32m[I 2023-01-29 17:44:43,241]\u001b[0m Trial 68 finished with value: 0.7578427916813536 and parameters: {'classifier': 'LogReg', 'С': 16.875782054224203, 'class_weight': None, 'penalty': 'l2'}. Best is trial 68 with value: 0.7578427916813536.\u001b[0m\n",
      "\u001b[32m[I 2023-01-29 17:44:44,426]\u001b[0m Trial 69 finished with value: 0.10934744268077602 and parameters: {'classifier': 'LogReg', 'С': 0.030945862913369156, 'class_weight': None, 'penalty': 'l2'}. Best is trial 68 with value: 0.7578427916813536.\u001b[0m\n",
      "\u001b[32m[I 2023-01-29 17:44:47,789]\u001b[0m Trial 70 finished with value: 0.7482796088373778 and parameters: {'classifier': 'LogReg', 'С': 6.098919343687687, 'class_weight': None, 'penalty': 'l2'}. Best is trial 68 with value: 0.7578427916813536.\u001b[0m\n",
      "\u001b[32m[I 2023-01-29 17:44:51,121]\u001b[0m Trial 71 finished with value: 0.756908009793634 and parameters: {'classifier': 'LogReg', 'С': 29.43357462523383, 'class_weight': None, 'penalty': 'l2'}. Best is trial 68 with value: 0.7578427916813536.\u001b[0m\n",
      "\u001b[32m[I 2023-01-29 17:44:54,415]\u001b[0m Trial 72 finished with value: 0.7332887700534758 and parameters: {'classifier': 'LogReg', 'С': 3168.9097640443065, 'class_weight': None, 'penalty': 'l2'}. Best is trial 68 with value: 0.7578427916813536.\u001b[0m\n",
      "\u001b[32m[I 2023-01-29 17:44:57,833]\u001b[0m Trial 73 finished with value: 0.756373937677054 and parameters: {'classifier': 'LogReg', 'С': 14.2618155415559, 'class_weight': None, 'penalty': 'l2'}. Best is trial 68 with value: 0.7578427916813536.\u001b[0m\n",
      "/opt/anaconda3/lib/python3.9/site-packages/sklearn/linear_model/_logistic.py:1113: UserWarning: Setting penalty='none' will ignore the C and l1_ratio parameters\n",
      "  warnings.warn(\n",
      "\u001b[32m[I 2023-01-29 17:45:01,325]\u001b[0m Trial 74 finished with value: 0.7308948399738733 and parameters: {'classifier': 'LogReg', 'С': 14.472432241517653, 'class_weight': None, 'penalty': 'none'}. Best is trial 68 with value: 0.7578427916813536.\u001b[0m\n",
      "\u001b[32m[I 2023-01-29 17:45:04,569]\u001b[0m Trial 75 finished with value: 0.7511703276917537 and parameters: {'classifier': 'LogReg', 'С': 7.086667455009407, 'class_weight': None, 'penalty': 'l2'}. Best is trial 68 with value: 0.7578427916813536.\u001b[0m\n",
      "\u001b[32m[I 2023-01-29 17:45:07,656]\u001b[0m Trial 76 finished with value: 0.7310344827586208 and parameters: {'classifier': 'LogReg', 'С': 72766.94709010629, 'class_weight': None, 'penalty': 'l2'}. Best is trial 68 with value: 0.7578427916813536.\u001b[0m\n",
      "\u001b[32m[I 2023-01-29 17:45:09,329]\u001b[0m Trial 77 finished with value: 0.0 and parameters: {'classifier': 'RandomForest', 'n_estimators': 150, 'max_depth': 5, 'class_weight': None}. Best is trial 68 with value: 0.7578427916813536.\u001b[0m\n",
      "\u001b[32m[I 2023-01-29 17:45:12,557]\u001b[0m Trial 78 finished with value: 0.7313482770157244 and parameters: {'classifier': 'LogReg', 'С': 905.6331693706675, 'class_weight': None, 'penalty': 'l2'}. Best is trial 68 with value: 0.7578427916813536.\u001b[0m\n",
      "\u001b[32m[I 2023-01-29 17:45:13,750]\u001b[0m Trial 79 finished with value: 0.14639769452449566 and parameters: {'classifier': 'LogReg', 'С': 0.03779839303584953, 'class_weight': None, 'penalty': 'l2'}. Best is trial 68 with value: 0.7578427916813536.\u001b[0m\n",
      "/opt/anaconda3/lib/python3.9/site-packages/sklearn/linear_model/_logistic.py:1113: UserWarning: Setting penalty='none' will ignore the C and l1_ratio parameters\n",
      "  warnings.warn(\n",
      "\u001b[32m[I 2023-01-29 17:45:17,180]\u001b[0m Trial 80 finished with value: 0.7308948399738733 and parameters: {'classifier': 'LogReg', 'С': 6.931146340699702, 'class_weight': None, 'penalty': 'none'}. Best is trial 68 with value: 0.7578427916813536.\u001b[0m\n",
      "\u001b[32m[I 2023-01-29 17:45:20,481]\u001b[0m Trial 81 finished with value: 0.7562849162011174 and parameters: {'classifier': 'LogReg', 'С': 34.6027263857049, 'class_weight': None, 'penalty': 'l2'}. Best is trial 68 with value: 0.7578427916813536.\u001b[0m\n",
      "\u001b[32m[I 2023-01-29 17:45:23,697]\u001b[0m Trial 82 finished with value: 0.736593591905565 and parameters: {'classifier': 'LogReg', 'С': 427.1840927755102, 'class_weight': None, 'penalty': 'l2'}. Best is trial 68 with value: 0.7578427916813536.\u001b[0m\n",
      "\u001b[32m[I 2023-01-29 17:45:27,164]\u001b[0m Trial 83 finished with value: 0.7571177504393674 and parameters: {'classifier': 'LogReg', 'С': 21.791824035020788, 'class_weight': None, 'penalty': 'l2'}. Best is trial 68 with value: 0.7578427916813536.\u001b[0m\n",
      "\u001b[32m[I 2023-01-29 17:45:30,565]\u001b[0m Trial 84 finished with value: 0.7575544624033731 and parameters: {'classifier': 'LogReg', 'С': 21.154888054321336, 'class_weight': None, 'penalty': 'l2'}. Best is trial 68 with value: 0.7578427916813536.\u001b[0m\n",
      "\u001b[32m[I 2023-01-29 17:45:33,816]\u001b[0m Trial 85 finished with value: 0.7570977917981073 and parameters: {'classifier': 'LogReg', 'С': 27.155678703290928, 'class_weight': None, 'penalty': 'l2'}. Best is trial 68 with value: 0.7578427916813536.\u001b[0m\n",
      "\u001b[32m[I 2023-01-29 17:45:39,732]\u001b[0m Trial 86 finished with value: 0.0 and parameters: {'classifier': 'RandomForest', 'n_estimators': 250, 'max_depth': 15, 'class_weight': None}. Best is trial 68 with value: 0.7578427916813536.\u001b[0m\n"
     ]
    },
    {
     "name": "stderr",
     "output_type": "stream",
     "text": [
      "\u001b[32m[I 2023-01-29 17:45:42,512]\u001b[0m Trial 87 finished with value: 0.7188096146508965 and parameters: {'classifier': 'LogReg', 'С': 2.005887234171565, 'class_weight': None, 'penalty': 'l2'}. Best is trial 68 with value: 0.7578427916813536.\u001b[0m\n",
      "/opt/anaconda3/lib/python3.9/site-packages/sklearn/linear_model/_logistic.py:1113: UserWarning: Setting penalty='none' will ignore the C and l1_ratio parameters\n",
      "  warnings.warn(\n",
      "\u001b[32m[I 2023-01-29 17:45:46,262]\u001b[0m Trial 88 finished with value: 0.7308948399738733 and parameters: {'classifier': 'LogReg', 'С': 21.004473891398526, 'class_weight': None, 'penalty': 'none'}. Best is trial 68 with value: 0.7578427916813536.\u001b[0m\n",
      "\u001b[32m[I 2023-01-29 17:45:49,838]\u001b[0m Trial 89 finished with value: 0.5209854014598541 and parameters: {'classifier': 'LogReg', 'С': 0.25032843176417285, 'class_weight': None, 'penalty': 'l2'}. Best is trial 68 with value: 0.7578427916813536.\u001b[0m\n",
      "\u001b[32m[I 2023-01-29 17:45:54,484]\u001b[0m Trial 90 finished with value: 0.7584033613445377 and parameters: {'classifier': 'LogReg', 'С': 25.804872944022716, 'class_weight': None, 'penalty': 'l2'}. Best is trial 90 with value: 0.7584033613445377.\u001b[0m\n",
      "\u001b[32m[I 2023-01-29 17:46:04,311]\u001b[0m Trial 91 finished with value: 0.7597061909758658 and parameters: {'classifier': 'LogReg', 'С': 28.87440156593086, 'class_weight': None, 'penalty': 'l2'}. Best is trial 91 with value: 0.7597061909758658.\u001b[0m\n",
      "\u001b[32m[I 2023-01-29 17:46:10,638]\u001b[0m Trial 92 finished with value: 0.7389261744966443 and parameters: {'classifier': 'LogReg', 'С': 511.35731219785146, 'class_weight': None, 'penalty': 'l2'}. Best is trial 91 with value: 0.7597061909758658.\u001b[0m\n",
      "\u001b[32m[I 2023-01-29 17:46:14,584]\u001b[0m Trial 93 finished with value: 0.7561061946902655 and parameters: {'classifier': 'LogReg', 'С': 13.791376525561786, 'class_weight': None, 'penalty': 'l2'}. Best is trial 91 with value: 0.7597061909758658.\u001b[0m\n",
      "\u001b[32m[I 2023-01-29 17:46:19,043]\u001b[0m Trial 94 finished with value: 0.7570385818561002 and parameters: {'classifier': 'LogReg', 'С': 43.74472675392971, 'class_weight': None, 'penalty': 'l2'}. Best is trial 91 with value: 0.7597061909758658.\u001b[0m\n",
      "\u001b[32m[I 2023-01-29 17:46:24,771]\u001b[0m Trial 95 finished with value: 0.7581924801655743 and parameters: {'classifier': 'LogReg', 'С': 62.223601614432624, 'class_weight': None, 'penalty': 'l2'}. Best is trial 91 with value: 0.7597061909758658.\u001b[0m\n",
      "\u001b[32m[I 2023-01-29 17:46:29,168]\u001b[0m Trial 96 finished with value: 0.7486449864498644 and parameters: {'classifier': 'LogReg', 'С': 248.93983618676694, 'class_weight': None, 'penalty': 'l2'}. Best is trial 91 with value: 0.7597061909758658.\u001b[0m\n",
      "\u001b[32m[I 2023-01-29 17:46:33,529]\u001b[0m Trial 97 finished with value: 0.7538940809968848 and parameters: {'classifier': 'LogReg', 'С': 62.50892866215892, 'class_weight': None, 'penalty': 'l2'}. Best is trial 91 with value: 0.7597061909758658.\u001b[0m\n",
      "\u001b[32m[I 2023-01-29 17:46:36,713]\u001b[0m Trial 98 finished with value: 0.7027658745617452 and parameters: {'classifier': 'LogReg', 'С': 1.4639005811428067, 'class_weight': None, 'penalty': 'l2'}. Best is trial 91 with value: 0.7597061909758658.\u001b[0m\n",
      "\u001b[32m[I 2023-01-29 17:46:39,062]\u001b[0m Trial 99 finished with value: 0.0 and parameters: {'classifier': 'RandomForest', 'n_estimators': 150, 'max_depth': 8, 'class_weight': None}. Best is trial 91 with value: 0.7597061909758658.\u001b[0m\n"
     ]
    }
   ],
   "source": [
    "def objective(trial):\n",
    " \n",
    "    # выберем модели\n",
    "    classifier_name = trial.suggest_categorical(\n",
    "        \"classifier\", [\"LogReg\", \"RandomForest\", \"SGDClassifier\"])\n",
    " \n",
    "    # выберем гиперпараметры:\n",
    "    if classifier_name == 'LogReg':\n",
    "        logreg_c = trial.suggest_float(\"С\", 1e-10, 1e10, log=True)\n",
    "        log_class_weight = trial.suggest_categorical(\n",
    "            \"class_weight\", ['balanced', None])\n",
    "        log_penalty = trial.suggest_categorical(\n",
    "            'penalty', ['l2', 'none'])\n",
    "        classifier_obj = LogisticRegression(\n",
    "            C=logreg_c, class_weight=log_class_weight, penalty=log_penalty, \n",
    "            random_state=42, n_jobs=-1)\n",
    "        \n",
    "    elif classifier_name == 'SGDClassifier':\n",
    "        sgd_eta0 = trial.suggest_float(\"eta0\", 0, 1.0)\n",
    "        sgd_class_weight = trial.suggest_categorical(\n",
    "            \"class_weight\", ['balanced', None])\n",
    "        sgd_loss = trial.suggest_categorical(\n",
    "            \"loss\", ['hinge', 'log', 'modified_huber', 'squared_hinge'])\n",
    "        classifier_obj = SGDClassifier(\n",
    "            eta0=sgd_eta0, class_weight=sgd_class_weight, loss=sgd_loss, \n",
    "            random_state=42, n_jobs=-1)\n",
    "    else:\n",
    "        rf_n_estimators = trial.suggest_int(\"n_estimators\", 100, 250, step=50)\n",
    "        rf_max_depth = trial.suggest_int(\"max_depth\", 2, 15, log=True)\n",
    "        rf_class_weight = trial.suggest_categorical(\n",
    "            \"class_weight\", ['balanced', None])\n",
    "        classifier_obj = RandomForestClassifier(\n",
    "            max_depth=rf_max_depth, n_estimators=rf_n_estimators, \n",
    "            class_weight=rf_class_weight, random_state=42, n_jobs=-1)\n",
    " \n",
    "    for step in range(100):\n",
    "        classifier_obj.fit(tf_idf_train, target_train)\n",
    " \n",
    "        # Промежуточное целевое значение\n",
    "        intermediate_value = f1_score(\n",
    "            target_val, classifier_obj.predict(tf_idf_val))\n",
    "        trial.report(intermediate_value, step)\n",
    " \n",
    "        # Обрезка на основании целевого значения\n",
    "        if trial.should_prune():\n",
    "            raise optuna.TrialPruned()\n",
    "        return intermediate_value\n",
    " \n",
    " \n",
    "study = optuna.create_study(direction=\"maximize\", pruner=optuna.pruners.MedianPruner(\n",
    "    n_startup_trials=5, n_warmup_steps=30, interval_steps=10))\n",
    "study.optimize(objective, n_trials=100)"
   ]
  },
  {
   "cell_type": "code",
   "execution_count": 83,
   "metadata": {
    "colab": {
     "base_uri": "https://localhost:8080/"
    },
    "id": "WT7ibfonJbxy",
    "outputId": "a2976d4a-4eda-4baf-abce-716e1f541978"
   },
   "outputs": [
    {
     "name": "stdout",
     "output_type": "stream",
     "text": [
      "Лучший результат F1: \n",
      "0.7597061909758658\n",
      "Лучшие параметры : \n",
      "{'classifier': 'LogReg', 'С': 28.87440156593086, 'class_weight': None, 'penalty': 'l2'}\n"
     ]
    }
   ],
   "source": [
    "print(f\"Лучший результат F1: \\n{study.best_value}\")\n",
    "print(f\"Лучшие параметры : \\n{study.best_params}\")"
   ]
  },
  {
   "cell_type": "markdown",
   "metadata": {},
   "source": [
    "Таким образом, по результатам подбора параметров, лучше всего с данной задачений справляется логистическая регрессия. **Ее результат на валидации – 0.76**"
   ]
  },
  {
   "cell_type": "markdown",
   "metadata": {
    "id": "CIziK3SyEBQQ"
   },
   "source": [
    "## Тестирование модели"
   ]
  },
  {
   "cell_type": "code",
   "execution_count": 84,
   "metadata": {
    "colab": {
     "base_uri": "https://localhost:8080/"
    },
    "id": "n6_EDK-uEBQQ",
    "outputId": "ee25c724-fdee-43cb-ff75-eac10081a109"
   },
   "outputs": [
    {
     "name": "stdout",
     "output_type": "stream",
     "text": [
      "F1-score на тестовой выборке:0.763448275862069\n"
     ]
    }
   ],
   "source": [
    "model = LogisticRegression(C=28.87440156593086, class_weight=None, penalty='l2', random_state=42, n_jobs=-1)\n",
    "model.fit(tf_idf_train, target_train)\n",
    "predictions = model.predict(tf_idf_test)\n",
    "print(f'F1-score на тестовой выборке:{f1_score(predictions, target_test)}')"
   ]
  },
  {
   "cell_type": "markdown",
   "metadata": {},
   "source": [
    "**На тестовой выборке результат у лучшей модели – 0.76**"
   ]
  },
  {
   "cell_type": "markdown",
   "metadata": {},
   "source": [
    "## Общие выводы по проекту"
   ]
  },
  {
   "cell_type": "markdown",
   "metadata": {},
   "source": [
    "**В проекте велась работа с текстами комментариев о товарах в интернет магазине**:\n",
    "   - text – тексты комментариев;\n",
    "   - toxic – целевой признак.\n",
    "\n",
    "**Задача состояла в подборе наилучшей по значению f1-score модели для определения токсичных комментариев**.\n",
    "\n",
    "**Перед началом анализа данные были подготовлены:**\n",
    "   - каждый текст лемматизирован и очищен от любых знаков, кроме букв;\n",
    "   - получина матрица TF-IDF для каждого текста.\n",
    "   \n",
    "В процессе обучения использовался **инструмент Optuna** — фреймворк для для автоматизированного поиска оптимальных гиперпараметров для моделей машинного обучения. Он значительно увеличивает скорость перебора гиперпараметров.\n",
    "\n",
    "Для каждой модели добавлен гиперпараметр \"class_weight\" для борьбы с дисбалансом.\n",
    "\n",
    "По результатам подбора гиперпараметров **лучший результат показала логистическая регресия**. \n",
    "\n",
    "Ее параметры следующие: С = 28.87440156593086, class_weight = None, penalty = l2.\n",
    "\n",
    "**На валидации лучшая модель показала результат 0.76, а на тесте – 0.76.**"
   ]
  }
 ],
 "metadata": {
  "accelerator": "GPU",
  "colab": {
   "provenance": []
  },
  "gpuClass": "standard",
  "kernelspec": {
   "display_name": "Python 3 (ipykernel)",
   "language": "python",
   "name": "python3"
  },
  "language_info": {
   "codemirror_mode": {
    "name": "ipython",
    "version": 3
   },
   "file_extension": ".py",
   "mimetype": "text/x-python",
   "name": "python",
   "nbconvert_exporter": "python",
   "pygments_lexer": "ipython3",
   "version": "3.9.12"
  },
  "toc": {
   "base_numbering": 1,
   "nav_menu": {},
   "number_sections": true,
   "sideBar": true,
   "skip_h1_title": true,
   "title_cell": "Содержание",
   "title_sidebar": "Contents",
   "toc_cell": true,
   "toc_position": {
    "height": "calc(100% - 180px)",
    "left": "10px",
    "top": "150px",
    "width": "302.391px"
   },
   "toc_section_display": true,
   "toc_window_display": true
  },
  "widgets": {
   "application/vnd.jupyter.widget-state+json": {
    "00c96ddf5b43406e8c1461d4e234c7f8": {
     "model_module": "@jupyter-widgets/controls",
     "model_module_version": "1.5.0",
     "model_name": "FloatProgressModel",
     "state": {
      "_dom_classes": [],
      "_model_module": "@jupyter-widgets/controls",
      "_model_module_version": "1.5.0",
      "_model_name": "FloatProgressModel",
      "_view_count": null,
      "_view_module": "@jupyter-widgets/controls",
      "_view_module_version": "1.5.0",
      "_view_name": "ProgressView",
      "bar_style": "success",
      "description": "",
      "description_tooltip": null,
      "layout": "IPY_MODEL_583e327632e947fe8877f920e5dfd3a6",
      "max": 318,
      "min": 0,
      "orientation": "horizontal",
      "style": "IPY_MODEL_e5582746f2aa4f62b2fa36d7869a5944",
      "value": 318
     }
    },
    "023b009d7c3e4e0c8a9f6826e6af65bc": {
     "model_module": "@jupyter-widgets/base",
     "model_module_version": "1.2.0",
     "model_name": "LayoutModel",
     "state": {
      "_model_module": "@jupyter-widgets/base",
      "_model_module_version": "1.2.0",
      "_model_name": "LayoutModel",
      "_view_count": null,
      "_view_module": "@jupyter-widgets/base",
      "_view_module_version": "1.2.0",
      "_view_name": "LayoutView",
      "align_content": null,
      "align_items": null,
      "align_self": null,
      "border": null,
      "bottom": null,
      "display": null,
      "flex": null,
      "flex_flow": null,
      "grid_area": null,
      "grid_auto_columns": null,
      "grid_auto_flow": null,
      "grid_auto_rows": null,
      "grid_column": null,
      "grid_gap": null,
      "grid_row": null,
      "grid_template_areas": null,
      "grid_template_columns": null,
      "grid_template_rows": null,
      "height": null,
      "justify_content": null,
      "justify_items": null,
      "left": null,
      "margin": null,
      "max_height": null,
      "max_width": null,
      "min_height": null,
      "min_width": null,
      "object_fit": null,
      "object_position": null,
      "order": null,
      "overflow": null,
      "overflow_x": null,
      "overflow_y": null,
      "padding": null,
      "right": null,
      "top": null,
      "visibility": null,
      "width": null
     }
    },
    "02ff7a9a21fe4cadbfcf0974ee2d9257": {
     "model_module": "@jupyter-widgets/controls",
     "model_module_version": "1.5.0",
     "model_name": "FloatProgressModel",
     "state": {
      "_dom_classes": [],
      "_model_module": "@jupyter-widgets/controls",
      "_model_module_version": "1.5.0",
      "_model_name": "FloatProgressModel",
      "_view_count": null,
      "_view_module": "@jupyter-widgets/controls",
      "_view_module_version": "1.5.0",
      "_view_name": "ProgressView",
      "bar_style": "success",
      "description": "",
      "description_tooltip": null,
      "layout": "IPY_MODEL_1423a474806a4fcc8a8a65f38a1842e8",
      "max": 1272,
      "min": 0,
      "orientation": "horizontal",
      "style": "IPY_MODEL_1433bbf8f8614c1fb9de74e64ba6c776",
      "value": 1272
     }
    },
    "045e775493a7412097c943865da7a739": {
     "model_module": "@jupyter-widgets/base",
     "model_module_version": "1.2.0",
     "model_name": "LayoutModel",
     "state": {
      "_model_module": "@jupyter-widgets/base",
      "_model_module_version": "1.2.0",
      "_model_name": "LayoutModel",
      "_view_count": null,
      "_view_module": "@jupyter-widgets/base",
      "_view_module_version": "1.2.0",
      "_view_name": "LayoutView",
      "align_content": null,
      "align_items": null,
      "align_self": null,
      "border": null,
      "bottom": null,
      "display": null,
      "flex": null,
      "flex_flow": null,
      "grid_area": null,
      "grid_auto_columns": null,
      "grid_auto_flow": null,
      "grid_auto_rows": null,
      "grid_column": null,
      "grid_gap": null,
      "grid_row": null,
      "grid_template_areas": null,
      "grid_template_columns": null,
      "grid_template_rows": null,
      "height": null,
      "justify_content": null,
      "justify_items": null,
      "left": null,
      "margin": null,
      "max_height": null,
      "max_width": null,
      "min_height": null,
      "min_width": null,
      "object_fit": null,
      "object_position": null,
      "order": null,
      "overflow": null,
      "overflow_x": null,
      "overflow_y": null,
      "padding": null,
      "right": null,
      "top": null,
      "visibility": null,
      "width": null
     }
    },
    "0d4a598a0d0e41c4847b8773a2e5a008": {
     "model_module": "@jupyter-widgets/controls",
     "model_module_version": "1.5.0",
     "model_name": "DescriptionStyleModel",
     "state": {
      "_model_module": "@jupyter-widgets/controls",
      "_model_module_version": "1.5.0",
      "_model_name": "DescriptionStyleModel",
      "_view_count": null,
      "_view_module": "@jupyter-widgets/base",
      "_view_module_version": "1.2.0",
      "_view_name": "StyleView",
      "description_width": ""
     }
    },
    "141c3863b2fb40908dd94642335a732c": {
     "model_module": "@jupyter-widgets/base",
     "model_module_version": "1.2.0",
     "model_name": "LayoutModel",
     "state": {
      "_model_module": "@jupyter-widgets/base",
      "_model_module_version": "1.2.0",
      "_model_name": "LayoutModel",
      "_view_count": null,
      "_view_module": "@jupyter-widgets/base",
      "_view_module_version": "1.2.0",
      "_view_name": "LayoutView",
      "align_content": null,
      "align_items": null,
      "align_self": null,
      "border": null,
      "bottom": null,
      "display": null,
      "flex": null,
      "flex_flow": null,
      "grid_area": null,
      "grid_auto_columns": null,
      "grid_auto_flow": null,
      "grid_auto_rows": null,
      "grid_column": null,
      "grid_gap": null,
      "grid_row": null,
      "grid_template_areas": null,
      "grid_template_columns": null,
      "grid_template_rows": null,
      "height": null,
      "justify_content": null,
      "justify_items": null,
      "left": null,
      "margin": null,
      "max_height": null,
      "max_width": null,
      "min_height": null,
      "min_width": null,
      "object_fit": null,
      "object_position": null,
      "order": null,
      "overflow": null,
      "overflow_x": null,
      "overflow_y": null,
      "padding": null,
      "right": null,
      "top": null,
      "visibility": null,
      "width": null
     }
    },
    "1423a474806a4fcc8a8a65f38a1842e8": {
     "model_module": "@jupyter-widgets/base",
     "model_module_version": "1.2.0",
     "model_name": "LayoutModel",
     "state": {
      "_model_module": "@jupyter-widgets/base",
      "_model_module_version": "1.2.0",
      "_model_name": "LayoutModel",
      "_view_count": null,
      "_view_module": "@jupyter-widgets/base",
      "_view_module_version": "1.2.0",
      "_view_name": "LayoutView",
      "align_content": null,
      "align_items": null,
      "align_self": null,
      "border": null,
      "bottom": null,
      "display": null,
      "flex": null,
      "flex_flow": null,
      "grid_area": null,
      "grid_auto_columns": null,
      "grid_auto_flow": null,
      "grid_auto_rows": null,
      "grid_column": null,
      "grid_gap": null,
      "grid_row": null,
      "grid_template_areas": null,
      "grid_template_columns": null,
      "grid_template_rows": null,
      "height": null,
      "justify_content": null,
      "justify_items": null,
      "left": null,
      "margin": null,
      "max_height": null,
      "max_width": null,
      "min_height": null,
      "min_width": null,
      "object_fit": null,
      "object_position": null,
      "order": null,
      "overflow": null,
      "overflow_x": null,
      "overflow_y": null,
      "padding": null,
      "right": null,
      "top": null,
      "visibility": null,
      "width": null
     }
    },
    "1433bbf8f8614c1fb9de74e64ba6c776": {
     "model_module": "@jupyter-widgets/controls",
     "model_module_version": "1.5.0",
     "model_name": "ProgressStyleModel",
     "state": {
      "_model_module": "@jupyter-widgets/controls",
      "_model_module_version": "1.5.0",
      "_model_name": "ProgressStyleModel",
      "_view_count": null,
      "_view_module": "@jupyter-widgets/base",
      "_view_module_version": "1.2.0",
      "_view_name": "StyleView",
      "bar_color": null,
      "description_width": ""
     }
    },
    "1805c4cdf1034ce5ad06e45a795823d4": {
     "model_module": "@jupyter-widgets/controls",
     "model_module_version": "1.5.0",
     "model_name": "HTMLModel",
     "state": {
      "_dom_classes": [],
      "_model_module": "@jupyter-widgets/controls",
      "_model_module_version": "1.5.0",
      "_model_name": "HTMLModel",
      "_view_count": null,
      "_view_module": "@jupyter-widgets/controls",
      "_view_module_version": "1.5.0",
      "_view_name": "HTMLView",
      "description": "",
      "description_tooltip": null,
      "layout": "IPY_MODEL_a5993a10b6b740d08019d08e268ffc6e",
      "placeholder": "​",
      "style": "IPY_MODEL_456dc42b914b4e65a71dceb356bbaed2",
      "value": " 1272/1272 [34:27&lt;00:00,  1.64s/it]"
     }
    },
    "1807527b06b148de8cde7d8cac76806e": {
     "model_module": "@jupyter-widgets/controls",
     "model_module_version": "1.5.0",
     "model_name": "HBoxModel",
     "state": {
      "_dom_classes": [],
      "_model_module": "@jupyter-widgets/controls",
      "_model_module_version": "1.5.0",
      "_model_name": "HBoxModel",
      "_view_count": null,
      "_view_module": "@jupyter-widgets/controls",
      "_view_module_version": "1.5.0",
      "_view_name": "HBoxView",
      "box_style": "",
      "children": [
       "IPY_MODEL_8a76aebc005941f299ef111c84bd7074",
       "IPY_MODEL_b21327d4223c4504ac204845107bc914",
       "IPY_MODEL_b4396b989291436ca5fde676f3554a50"
      ],
      "layout": "IPY_MODEL_9d978218fa68440ca481b40a5d4b2a35"
     }
    },
    "18fc82820418457e8ef8ec4ca071e8b8": {
     "model_module": "@jupyter-widgets/controls",
     "model_module_version": "1.5.0",
     "model_name": "HBoxModel",
     "state": {
      "_dom_classes": [],
      "_model_module": "@jupyter-widgets/controls",
      "_model_module_version": "1.5.0",
      "_model_name": "HBoxModel",
      "_view_count": null,
      "_view_module": "@jupyter-widgets/controls",
      "_view_module_version": "1.5.0",
      "_view_name": "HBoxView",
      "box_style": "",
      "children": [
       "IPY_MODEL_388c041d58c84a7c8d26e64ce3c5022e",
       "IPY_MODEL_02ff7a9a21fe4cadbfcf0974ee2d9257",
       "IPY_MODEL_1805c4cdf1034ce5ad06e45a795823d4"
      ],
      "layout": "IPY_MODEL_84538d37e91346aa825aa9520b2bf311"
     }
    },
    "1b70976dc5a444dc9dcd2e48be7589cd": {
     "model_module": "@jupyter-widgets/controls",
     "model_module_version": "1.5.0",
     "model_name": "DescriptionStyleModel",
     "state": {
      "_model_module": "@jupyter-widgets/controls",
      "_model_module_version": "1.5.0",
      "_model_name": "DescriptionStyleModel",
      "_view_count": null,
      "_view_module": "@jupyter-widgets/base",
      "_view_module_version": "1.2.0",
      "_view_name": "StyleView",
      "description_width": ""
     }
    },
    "2017b177c9254856b3cf19c5148a3248": {
     "model_module": "@jupyter-widgets/controls",
     "model_module_version": "1.5.0",
     "model_name": "DescriptionStyleModel",
     "state": {
      "_model_module": "@jupyter-widgets/controls",
      "_model_module_version": "1.5.0",
      "_model_name": "DescriptionStyleModel",
      "_view_count": null,
      "_view_module": "@jupyter-widgets/base",
      "_view_module_version": "1.2.0",
      "_view_name": "StyleView",
      "description_width": ""
     }
    },
    "2a54a3d32ce54039aefa32727bab4c3f": {
     "model_module": "@jupyter-widgets/base",
     "model_module_version": "1.2.0",
     "model_name": "LayoutModel",
     "state": {
      "_model_module": "@jupyter-widgets/base",
      "_model_module_version": "1.2.0",
      "_model_name": "LayoutModel",
      "_view_count": null,
      "_view_module": "@jupyter-widgets/base",
      "_view_module_version": "1.2.0",
      "_view_name": "LayoutView",
      "align_content": null,
      "align_items": null,
      "align_self": null,
      "border": null,
      "bottom": null,
      "display": null,
      "flex": null,
      "flex_flow": null,
      "grid_area": null,
      "grid_auto_columns": null,
      "grid_auto_flow": null,
      "grid_auto_rows": null,
      "grid_column": null,
      "grid_gap": null,
      "grid_row": null,
      "grid_template_areas": null,
      "grid_template_columns": null,
      "grid_template_rows": null,
      "height": null,
      "justify_content": null,
      "justify_items": null,
      "left": null,
      "margin": null,
      "max_height": null,
      "max_width": null,
      "min_height": null,
      "min_width": null,
      "object_fit": null,
      "object_position": null,
      "order": null,
      "overflow": null,
      "overflow_x": null,
      "overflow_y": null,
      "padding": null,
      "right": null,
      "top": null,
      "visibility": null,
      "width": null
     }
    },
    "2cc7dd10ddb34e7ebdae201ce1b429f9": {
     "model_module": "@jupyter-widgets/controls",
     "model_module_version": "1.5.0",
     "model_name": "ProgressStyleModel",
     "state": {
      "_model_module": "@jupyter-widgets/controls",
      "_model_module_version": "1.5.0",
      "_model_name": "ProgressStyleModel",
      "_view_count": null,
      "_view_module": "@jupyter-widgets/base",
      "_view_module_version": "1.2.0",
      "_view_name": "StyleView",
      "bar_color": null,
      "description_width": ""
     }
    },
    "2eec35a8c7744479bcfd6b89f1de1646": {
     "model_module": "@jupyter-widgets/base",
     "model_module_version": "1.2.0",
     "model_name": "LayoutModel",
     "state": {
      "_model_module": "@jupyter-widgets/base",
      "_model_module_version": "1.2.0",
      "_model_name": "LayoutModel",
      "_view_count": null,
      "_view_module": "@jupyter-widgets/base",
      "_view_module_version": "1.2.0",
      "_view_name": "LayoutView",
      "align_content": null,
      "align_items": null,
      "align_self": null,
      "border": null,
      "bottom": null,
      "display": null,
      "flex": null,
      "flex_flow": null,
      "grid_area": null,
      "grid_auto_columns": null,
      "grid_auto_flow": null,
      "grid_auto_rows": null,
      "grid_column": null,
      "grid_gap": null,
      "grid_row": null,
      "grid_template_areas": null,
      "grid_template_columns": null,
      "grid_template_rows": null,
      "height": null,
      "justify_content": null,
      "justify_items": null,
      "left": null,
      "margin": null,
      "max_height": null,
      "max_width": null,
      "min_height": null,
      "min_width": null,
      "object_fit": null,
      "object_position": null,
      "order": null,
      "overflow": null,
      "overflow_x": null,
      "overflow_y": null,
      "padding": null,
      "right": null,
      "top": null,
      "visibility": null,
      "width": null
     }
    },
    "3068e0b7e69047ecbd225317f13597b2": {
     "model_module": "@jupyter-widgets/base",
     "model_module_version": "1.2.0",
     "model_name": "LayoutModel",
     "state": {
      "_model_module": "@jupyter-widgets/base",
      "_model_module_version": "1.2.0",
      "_model_name": "LayoutModel",
      "_view_count": null,
      "_view_module": "@jupyter-widgets/base",
      "_view_module_version": "1.2.0",
      "_view_name": "LayoutView",
      "align_content": null,
      "align_items": null,
      "align_self": null,
      "border": null,
      "bottom": null,
      "display": null,
      "flex": null,
      "flex_flow": null,
      "grid_area": null,
      "grid_auto_columns": null,
      "grid_auto_flow": null,
      "grid_auto_rows": null,
      "grid_column": null,
      "grid_gap": null,
      "grid_row": null,
      "grid_template_areas": null,
      "grid_template_columns": null,
      "grid_template_rows": null,
      "height": null,
      "justify_content": null,
      "justify_items": null,
      "left": null,
      "margin": null,
      "max_height": null,
      "max_width": null,
      "min_height": null,
      "min_width": null,
      "object_fit": null,
      "object_position": null,
      "order": null,
      "overflow": null,
      "overflow_x": null,
      "overflow_y": null,
      "padding": null,
      "right": null,
      "top": null,
      "visibility": null,
      "width": null
     }
    },
    "388c041d58c84a7c8d26e64ce3c5022e": {
     "model_module": "@jupyter-widgets/controls",
     "model_module_version": "1.5.0",
     "model_name": "HTMLModel",
     "state": {
      "_dom_classes": [],
      "_model_module": "@jupyter-widgets/controls",
      "_model_module_version": "1.5.0",
      "_model_name": "HTMLModel",
      "_view_count": null,
      "_view_module": "@jupyter-widgets/controls",
      "_view_module_version": "1.5.0",
      "_view_name": "HTMLView",
      "description": "",
      "description_tooltip": null,
      "layout": "IPY_MODEL_d8cc19b9fb55442c95742f388480d41a",
      "placeholder": "​",
      "style": "IPY_MODEL_c3811211ef2d4a76ab1a3e0028e1ff60",
      "value": "100%"
     }
    },
    "456dc42b914b4e65a71dceb356bbaed2": {
     "model_module": "@jupyter-widgets/controls",
     "model_module_version": "1.5.0",
     "model_name": "DescriptionStyleModel",
     "state": {
      "_model_module": "@jupyter-widgets/controls",
      "_model_module_version": "1.5.0",
      "_model_name": "DescriptionStyleModel",
      "_view_count": null,
      "_view_module": "@jupyter-widgets/base",
      "_view_module_version": "1.2.0",
      "_view_name": "StyleView",
      "description_width": ""
     }
    },
    "461165e6906e45a5a54ef7115288bf8e": {
     "model_module": "@jupyter-widgets/controls",
     "model_module_version": "1.5.0",
     "model_name": "HTMLModel",
     "state": {
      "_dom_classes": [],
      "_model_module": "@jupyter-widgets/controls",
      "_model_module_version": "1.5.0",
      "_model_name": "HTMLModel",
      "_view_count": null,
      "_view_module": "@jupyter-widgets/controls",
      "_view_module_version": "1.5.0",
      "_view_name": "HTMLView",
      "description": "",
      "description_tooltip": null,
      "layout": "IPY_MODEL_882610655da943b7bee252fbcfe69c35",
      "placeholder": "​",
      "style": "IPY_MODEL_6a69ede9147644778eaa7233ef22e70b",
      "value": "Downloading (…)solve/main/vocab.txt: 100%"
     }
    },
    "4746fbdfe7b340368a968d8414c6bfc6": {
     "model_module": "@jupyter-widgets/controls",
     "model_module_version": "1.5.0",
     "model_name": "ProgressStyleModel",
     "state": {
      "_model_module": "@jupyter-widgets/controls",
      "_model_module_version": "1.5.0",
      "_model_name": "ProgressStyleModel",
      "_view_count": null,
      "_view_module": "@jupyter-widgets/base",
      "_view_module_version": "1.2.0",
      "_view_name": "StyleView",
      "bar_color": null,
      "description_width": ""
     }
    },
    "4a9df97ab4e743dab0280a84fec517df": {
     "model_module": "@jupyter-widgets/base",
     "model_module_version": "1.2.0",
     "model_name": "LayoutModel",
     "state": {
      "_model_module": "@jupyter-widgets/base",
      "_model_module_version": "1.2.0",
      "_model_name": "LayoutModel",
      "_view_count": null,
      "_view_module": "@jupyter-widgets/base",
      "_view_module_version": "1.2.0",
      "_view_name": "LayoutView",
      "align_content": null,
      "align_items": null,
      "align_self": null,
      "border": null,
      "bottom": null,
      "display": null,
      "flex": null,
      "flex_flow": null,
      "grid_area": null,
      "grid_auto_columns": null,
      "grid_auto_flow": null,
      "grid_auto_rows": null,
      "grid_column": null,
      "grid_gap": null,
      "grid_row": null,
      "grid_template_areas": null,
      "grid_template_columns": null,
      "grid_template_rows": null,
      "height": null,
      "justify_content": null,
      "justify_items": null,
      "left": null,
      "margin": null,
      "max_height": null,
      "max_width": null,
      "min_height": null,
      "min_width": null,
      "object_fit": null,
      "object_position": null,
      "order": null,
      "overflow": null,
      "overflow_x": null,
      "overflow_y": null,
      "padding": null,
      "right": null,
      "top": null,
      "visibility": null,
      "width": null
     }
    },
    "4b4d014888434dbabc9f8f17d2b062f4": {
     "model_module": "@jupyter-widgets/controls",
     "model_module_version": "1.5.0",
     "model_name": "HBoxModel",
     "state": {
      "_dom_classes": [],
      "_model_module": "@jupyter-widgets/controls",
      "_model_module_version": "1.5.0",
      "_model_name": "HBoxModel",
      "_view_count": null,
      "_view_module": "@jupyter-widgets/controls",
      "_view_module_version": "1.5.0",
      "_view_name": "HBoxView",
      "box_style": "",
      "children": [
       "IPY_MODEL_bc589d57403a479faa2cab6e9642b583",
       "IPY_MODEL_00c96ddf5b43406e8c1461d4e234c7f8",
       "IPY_MODEL_cc98e8041f20494a93892d12f8c457dc"
      ],
      "layout": "IPY_MODEL_3068e0b7e69047ecbd225317f13597b2"
     }
    },
    "4dc316e967b1426f80badd0c03925b0b": {
     "model_module": "@jupyter-widgets/base",
     "model_module_version": "1.2.0",
     "model_name": "LayoutModel",
     "state": {
      "_model_module": "@jupyter-widgets/base",
      "_model_module_version": "1.2.0",
      "_model_name": "LayoutModel",
      "_view_count": null,
      "_view_module": "@jupyter-widgets/base",
      "_view_module_version": "1.2.0",
      "_view_name": "LayoutView",
      "align_content": null,
      "align_items": null,
      "align_self": null,
      "border": null,
      "bottom": null,
      "display": null,
      "flex": null,
      "flex_flow": null,
      "grid_area": null,
      "grid_auto_columns": null,
      "grid_auto_flow": null,
      "grid_auto_rows": null,
      "grid_column": null,
      "grid_gap": null,
      "grid_row": null,
      "grid_template_areas": null,
      "grid_template_columns": null,
      "grid_template_rows": null,
      "height": null,
      "justify_content": null,
      "justify_items": null,
      "left": null,
      "margin": null,
      "max_height": null,
      "max_width": null,
      "min_height": null,
      "min_width": null,
      "object_fit": null,
      "object_position": null,
      "order": null,
      "overflow": null,
      "overflow_x": null,
      "overflow_y": null,
      "padding": null,
      "right": null,
      "top": null,
      "visibility": null,
      "width": null
     }
    },
    "511dbd6291dc4b058ffdbc1cf39a2052": {
     "model_module": "@jupyter-widgets/base",
     "model_module_version": "1.2.0",
     "model_name": "LayoutModel",
     "state": {
      "_model_module": "@jupyter-widgets/base",
      "_model_module_version": "1.2.0",
      "_model_name": "LayoutModel",
      "_view_count": null,
      "_view_module": "@jupyter-widgets/base",
      "_view_module_version": "1.2.0",
      "_view_name": "LayoutView",
      "align_content": null,
      "align_items": null,
      "align_self": null,
      "border": null,
      "bottom": null,
      "display": null,
      "flex": null,
      "flex_flow": null,
      "grid_area": null,
      "grid_auto_columns": null,
      "grid_auto_flow": null,
      "grid_auto_rows": null,
      "grid_column": null,
      "grid_gap": null,
      "grid_row": null,
      "grid_template_areas": null,
      "grid_template_columns": null,
      "grid_template_rows": null,
      "height": null,
      "justify_content": null,
      "justify_items": null,
      "left": null,
      "margin": null,
      "max_height": null,
      "max_width": null,
      "min_height": null,
      "min_width": null,
      "object_fit": null,
      "object_position": null,
      "order": null,
      "overflow": null,
      "overflow_x": null,
      "overflow_y": null,
      "padding": null,
      "right": null,
      "top": null,
      "visibility": null,
      "width": null
     }
    },
    "53954b7b7be7487c929f374fc410275d": {
     "model_module": "@jupyter-widgets/controls",
     "model_module_version": "1.5.0",
     "model_name": "HBoxModel",
     "state": {
      "_dom_classes": [],
      "_model_module": "@jupyter-widgets/controls",
      "_model_module_version": "1.5.0",
      "_model_name": "HBoxModel",
      "_view_count": null,
      "_view_module": "@jupyter-widgets/controls",
      "_view_module_version": "1.5.0",
      "_view_name": "HBoxView",
      "box_style": "",
      "children": [
       "IPY_MODEL_461165e6906e45a5a54ef7115288bf8e",
       "IPY_MODEL_62b76997d0b24d329ac0b5c3fe780d4a",
       "IPY_MODEL_56bc0d3b115e4aa9964c5924d423645e"
      ],
      "layout": "IPY_MODEL_4a9df97ab4e743dab0280a84fec517df"
     }
    },
    "568f36375d2e47e794354db54997aecb": {
     "model_module": "@jupyter-widgets/base",
     "model_module_version": "1.2.0",
     "model_name": "LayoutModel",
     "state": {
      "_model_module": "@jupyter-widgets/base",
      "_model_module_version": "1.2.0",
      "_model_name": "LayoutModel",
      "_view_count": null,
      "_view_module": "@jupyter-widgets/base",
      "_view_module_version": "1.2.0",
      "_view_name": "LayoutView",
      "align_content": null,
      "align_items": null,
      "align_self": null,
      "border": null,
      "bottom": null,
      "display": null,
      "flex": null,
      "flex_flow": null,
      "grid_area": null,
      "grid_auto_columns": null,
      "grid_auto_flow": null,
      "grid_auto_rows": null,
      "grid_column": null,
      "grid_gap": null,
      "grid_row": null,
      "grid_template_areas": null,
      "grid_template_columns": null,
      "grid_template_rows": null,
      "height": null,
      "justify_content": null,
      "justify_items": null,
      "left": null,
      "margin": null,
      "max_height": null,
      "max_width": null,
      "min_height": null,
      "min_width": null,
      "object_fit": null,
      "object_position": null,
      "order": null,
      "overflow": null,
      "overflow_x": null,
      "overflow_y": null,
      "padding": null,
      "right": null,
      "top": null,
      "visibility": null,
      "width": null
     }
    },
    "56bc0d3b115e4aa9964c5924d423645e": {
     "model_module": "@jupyter-widgets/controls",
     "model_module_version": "1.5.0",
     "model_name": "HTMLModel",
     "state": {
      "_dom_classes": [],
      "_model_module": "@jupyter-widgets/controls",
      "_model_module_version": "1.5.0",
      "_model_name": "HTMLModel",
      "_view_count": null,
      "_view_module": "@jupyter-widgets/controls",
      "_view_module_version": "1.5.0",
      "_view_name": "HTMLView",
      "description": "",
      "description_tooltip": null,
      "layout": "IPY_MODEL_2a54a3d32ce54039aefa32727bab4c3f",
      "placeholder": "​",
      "style": "IPY_MODEL_0d4a598a0d0e41c4847b8773a2e5a008",
      "value": " 232k/232k [00:00&lt;00:00, 679kB/s]"
     }
    },
    "583e327632e947fe8877f920e5dfd3a6": {
     "model_module": "@jupyter-widgets/base",
     "model_module_version": "1.2.0",
     "model_name": "LayoutModel",
     "state": {
      "_model_module": "@jupyter-widgets/base",
      "_model_module_version": "1.2.0",
      "_model_name": "LayoutModel",
      "_view_count": null,
      "_view_module": "@jupyter-widgets/base",
      "_view_module_version": "1.2.0",
      "_view_name": "LayoutView",
      "align_content": null,
      "align_items": null,
      "align_self": null,
      "border": null,
      "bottom": null,
      "display": null,
      "flex": null,
      "flex_flow": null,
      "grid_area": null,
      "grid_auto_columns": null,
      "grid_auto_flow": null,
      "grid_auto_rows": null,
      "grid_column": null,
      "grid_gap": null,
      "grid_row": null,
      "grid_template_areas": null,
      "grid_template_columns": null,
      "grid_template_rows": null,
      "height": null,
      "justify_content": null,
      "justify_items": null,
      "left": null,
      "margin": null,
      "max_height": null,
      "max_width": null,
      "min_height": null,
      "min_width": null,
      "object_fit": null,
      "object_position": null,
      "order": null,
      "overflow": null,
      "overflow_x": null,
      "overflow_y": null,
      "padding": null,
      "right": null,
      "top": null,
      "visibility": null,
      "width": null
     }
    },
    "5fe8db953a1546c689d1458e94f8ea66": {
     "model_module": "@jupyter-widgets/controls",
     "model_module_version": "1.5.0",
     "model_name": "DescriptionStyleModel",
     "state": {
      "_model_module": "@jupyter-widgets/controls",
      "_model_module_version": "1.5.0",
      "_model_name": "DescriptionStyleModel",
      "_view_count": null,
      "_view_module": "@jupyter-widgets/base",
      "_view_module_version": "1.2.0",
      "_view_name": "StyleView",
      "description_width": ""
     }
    },
    "62921dc907db4b16b56727e460013c51": {
     "model_module": "@jupyter-widgets/controls",
     "model_module_version": "1.5.0",
     "model_name": "HTMLModel",
     "state": {
      "_dom_classes": [],
      "_model_module": "@jupyter-widgets/controls",
      "_model_module_version": "1.5.0",
      "_model_name": "HTMLModel",
      "_view_count": null,
      "_view_module": "@jupyter-widgets/controls",
      "_view_module_version": "1.5.0",
      "_view_name": "HTMLView",
      "description": "",
      "description_tooltip": null,
      "layout": "IPY_MODEL_568f36375d2e47e794354db54997aecb",
      "placeholder": "​",
      "style": "IPY_MODEL_5fe8db953a1546c689d1458e94f8ea66",
      "value": " 483/483 [00:00&lt;00:00, 22.8kB/s]"
     }
    },
    "62af17abfa814aab9e2e9ffcbe2f84ec": {
     "model_module": "@jupyter-widgets/base",
     "model_module_version": "1.2.0",
     "model_name": "LayoutModel",
     "state": {
      "_model_module": "@jupyter-widgets/base",
      "_model_module_version": "1.2.0",
      "_model_name": "LayoutModel",
      "_view_count": null,
      "_view_module": "@jupyter-widgets/base",
      "_view_module_version": "1.2.0",
      "_view_name": "LayoutView",
      "align_content": null,
      "align_items": null,
      "align_self": null,
      "border": null,
      "bottom": null,
      "display": null,
      "flex": null,
      "flex_flow": null,
      "grid_area": null,
      "grid_auto_columns": null,
      "grid_auto_flow": null,
      "grid_auto_rows": null,
      "grid_column": null,
      "grid_gap": null,
      "grid_row": null,
      "grid_template_areas": null,
      "grid_template_columns": null,
      "grid_template_rows": null,
      "height": null,
      "justify_content": null,
      "justify_items": null,
      "left": null,
      "margin": null,
      "max_height": null,
      "max_width": null,
      "min_height": null,
      "min_width": null,
      "object_fit": null,
      "object_position": null,
      "order": null,
      "overflow": null,
      "overflow_x": null,
      "overflow_y": null,
      "padding": null,
      "right": null,
      "top": null,
      "visibility": null,
      "width": null
     }
    },
    "62b76997d0b24d329ac0b5c3fe780d4a": {
     "model_module": "@jupyter-widgets/controls",
     "model_module_version": "1.5.0",
     "model_name": "FloatProgressModel",
     "state": {
      "_dom_classes": [],
      "_model_module": "@jupyter-widgets/controls",
      "_model_module_version": "1.5.0",
      "_model_name": "FloatProgressModel",
      "_view_count": null,
      "_view_module": "@jupyter-widgets/controls",
      "_view_module_version": "1.5.0",
      "_view_name": "ProgressView",
      "bar_style": "success",
      "description": "",
      "description_tooltip": null,
      "layout": "IPY_MODEL_ba88fa3b6e03406bbab521ecb1d69265",
      "max": 231508,
      "min": 0,
      "orientation": "horizontal",
      "style": "IPY_MODEL_84ecc3f0c43e46eaa9531c2f18843095",
      "value": 231508
     }
    },
    "681b497813a9436ea455c36be490eb48": {
     "model_module": "@jupyter-widgets/base",
     "model_module_version": "1.2.0",
     "model_name": "LayoutModel",
     "state": {
      "_model_module": "@jupyter-widgets/base",
      "_model_module_version": "1.2.0",
      "_model_name": "LayoutModel",
      "_view_count": null,
      "_view_module": "@jupyter-widgets/base",
      "_view_module_version": "1.2.0",
      "_view_name": "LayoutView",
      "align_content": null,
      "align_items": null,
      "align_self": null,
      "border": null,
      "bottom": null,
      "display": null,
      "flex": null,
      "flex_flow": null,
      "grid_area": null,
      "grid_auto_columns": null,
      "grid_auto_flow": null,
      "grid_auto_rows": null,
      "grid_column": null,
      "grid_gap": null,
      "grid_row": null,
      "grid_template_areas": null,
      "grid_template_columns": null,
      "grid_template_rows": null,
      "height": null,
      "justify_content": null,
      "justify_items": null,
      "left": null,
      "margin": null,
      "max_height": null,
      "max_width": null,
      "min_height": null,
      "min_width": null,
      "object_fit": null,
      "object_position": null,
      "order": null,
      "overflow": null,
      "overflow_x": null,
      "overflow_y": null,
      "padding": null,
      "right": null,
      "top": null,
      "visibility": null,
      "width": null
     }
    },
    "6a69ede9147644778eaa7233ef22e70b": {
     "model_module": "@jupyter-widgets/controls",
     "model_module_version": "1.5.0",
     "model_name": "DescriptionStyleModel",
     "state": {
      "_model_module": "@jupyter-widgets/controls",
      "_model_module_version": "1.5.0",
      "_model_name": "DescriptionStyleModel",
      "_view_count": null,
      "_view_module": "@jupyter-widgets/base",
      "_view_module_version": "1.2.0",
      "_view_name": "StyleView",
      "description_width": ""
     }
    },
    "72999e679aec4b2daf48b1eb70d4c714": {
     "model_module": "@jupyter-widgets/base",
     "model_module_version": "1.2.0",
     "model_name": "LayoutModel",
     "state": {
      "_model_module": "@jupyter-widgets/base",
      "_model_module_version": "1.2.0",
      "_model_name": "LayoutModel",
      "_view_count": null,
      "_view_module": "@jupyter-widgets/base",
      "_view_module_version": "1.2.0",
      "_view_name": "LayoutView",
      "align_content": null,
      "align_items": null,
      "align_self": null,
      "border": null,
      "bottom": null,
      "display": null,
      "flex": null,
      "flex_flow": null,
      "grid_area": null,
      "grid_auto_columns": null,
      "grid_auto_flow": null,
      "grid_auto_rows": null,
      "grid_column": null,
      "grid_gap": null,
      "grid_row": null,
      "grid_template_areas": null,
      "grid_template_columns": null,
      "grid_template_rows": null,
      "height": null,
      "justify_content": null,
      "justify_items": null,
      "left": null,
      "margin": null,
      "max_height": null,
      "max_width": null,
      "min_height": null,
      "min_width": null,
      "object_fit": null,
      "object_position": null,
      "order": null,
      "overflow": null,
      "overflow_x": null,
      "overflow_y": null,
      "padding": null,
      "right": null,
      "top": null,
      "visibility": null,
      "width": null
     }
    },
    "734a0fafd4c14e2098451c42fde3907b": {
     "model_module": "@jupyter-widgets/base",
     "model_module_version": "1.2.0",
     "model_name": "LayoutModel",
     "state": {
      "_model_module": "@jupyter-widgets/base",
      "_model_module_version": "1.2.0",
      "_model_name": "LayoutModel",
      "_view_count": null,
      "_view_module": "@jupyter-widgets/base",
      "_view_module_version": "1.2.0",
      "_view_name": "LayoutView",
      "align_content": null,
      "align_items": null,
      "align_self": null,
      "border": null,
      "bottom": null,
      "display": null,
      "flex": null,
      "flex_flow": null,
      "grid_area": null,
      "grid_auto_columns": null,
      "grid_auto_flow": null,
      "grid_auto_rows": null,
      "grid_column": null,
      "grid_gap": null,
      "grid_row": null,
      "grid_template_areas": null,
      "grid_template_columns": null,
      "grid_template_rows": null,
      "height": null,
      "justify_content": null,
      "justify_items": null,
      "left": null,
      "margin": null,
      "max_height": null,
      "max_width": null,
      "min_height": null,
      "min_width": null,
      "object_fit": null,
      "object_position": null,
      "order": null,
      "overflow": null,
      "overflow_x": null,
      "overflow_y": null,
      "padding": null,
      "right": null,
      "top": null,
      "visibility": null,
      "width": null
     }
    },
    "7ad9ef7810c94975a654945c24d80737": {
     "model_module": "@jupyter-widgets/base",
     "model_module_version": "1.2.0",
     "model_name": "LayoutModel",
     "state": {
      "_model_module": "@jupyter-widgets/base",
      "_model_module_version": "1.2.0",
      "_model_name": "LayoutModel",
      "_view_count": null,
      "_view_module": "@jupyter-widgets/base",
      "_view_module_version": "1.2.0",
      "_view_name": "LayoutView",
      "align_content": null,
      "align_items": null,
      "align_self": null,
      "border": null,
      "bottom": null,
      "display": null,
      "flex": null,
      "flex_flow": null,
      "grid_area": null,
      "grid_auto_columns": null,
      "grid_auto_flow": null,
      "grid_auto_rows": null,
      "grid_column": null,
      "grid_gap": null,
      "grid_row": null,
      "grid_template_areas": null,
      "grid_template_columns": null,
      "grid_template_rows": null,
      "height": null,
      "justify_content": null,
      "justify_items": null,
      "left": null,
      "margin": null,
      "max_height": null,
      "max_width": null,
      "min_height": null,
      "min_width": null,
      "object_fit": null,
      "object_position": null,
      "order": null,
      "overflow": null,
      "overflow_x": null,
      "overflow_y": null,
      "padding": null,
      "right": null,
      "top": null,
      "visibility": null,
      "width": null
     }
    },
    "7b90f3d3b5244887a981a4807d07bdc9": {
     "model_module": "@jupyter-widgets/controls",
     "model_module_version": "1.5.0",
     "model_name": "HTMLModel",
     "state": {
      "_dom_classes": [],
      "_model_module": "@jupyter-widgets/controls",
      "_model_module_version": "1.5.0",
      "_model_name": "HTMLModel",
      "_view_count": null,
      "_view_module": "@jupyter-widgets/controls",
      "_view_module_version": "1.5.0",
      "_view_name": "HTMLView",
      "description": "",
      "description_tooltip": null,
      "layout": "IPY_MODEL_681b497813a9436ea455c36be490eb48",
      "placeholder": "​",
      "style": "IPY_MODEL_1b70976dc5a444dc9dcd2e48be7589cd",
      "value": "Downloading (…)lve/main/config.json: 100%"
     }
    },
    "84538d37e91346aa825aa9520b2bf311": {
     "model_module": "@jupyter-widgets/base",
     "model_module_version": "1.2.0",
     "model_name": "LayoutModel",
     "state": {
      "_model_module": "@jupyter-widgets/base",
      "_model_module_version": "1.2.0",
      "_model_name": "LayoutModel",
      "_view_count": null,
      "_view_module": "@jupyter-widgets/base",
      "_view_module_version": "1.2.0",
      "_view_name": "LayoutView",
      "align_content": null,
      "align_items": null,
      "align_self": null,
      "border": null,
      "bottom": null,
      "display": null,
      "flex": null,
      "flex_flow": null,
      "grid_area": null,
      "grid_auto_columns": null,
      "grid_auto_flow": null,
      "grid_auto_rows": null,
      "grid_column": null,
      "grid_gap": null,
      "grid_row": null,
      "grid_template_areas": null,
      "grid_template_columns": null,
      "grid_template_rows": null,
      "height": null,
      "justify_content": null,
      "justify_items": null,
      "left": null,
      "margin": null,
      "max_height": null,
      "max_width": null,
      "min_height": null,
      "min_width": null,
      "object_fit": null,
      "object_position": null,
      "order": null,
      "overflow": null,
      "overflow_x": null,
      "overflow_y": null,
      "padding": null,
      "right": null,
      "top": null,
      "visibility": null,
      "width": null
     }
    },
    "84ecc3f0c43e46eaa9531c2f18843095": {
     "model_module": "@jupyter-widgets/controls",
     "model_module_version": "1.5.0",
     "model_name": "ProgressStyleModel",
     "state": {
      "_model_module": "@jupyter-widgets/controls",
      "_model_module_version": "1.5.0",
      "_model_name": "ProgressStyleModel",
      "_view_count": null,
      "_view_module": "@jupyter-widgets/base",
      "_view_module_version": "1.2.0",
      "_view_name": "StyleView",
      "bar_color": null,
      "description_width": ""
     }
    },
    "882610655da943b7bee252fbcfe69c35": {
     "model_module": "@jupyter-widgets/base",
     "model_module_version": "1.2.0",
     "model_name": "LayoutModel",
     "state": {
      "_model_module": "@jupyter-widgets/base",
      "_model_module_version": "1.2.0",
      "_model_name": "LayoutModel",
      "_view_count": null,
      "_view_module": "@jupyter-widgets/base",
      "_view_module_version": "1.2.0",
      "_view_name": "LayoutView",
      "align_content": null,
      "align_items": null,
      "align_self": null,
      "border": null,
      "bottom": null,
      "display": null,
      "flex": null,
      "flex_flow": null,
      "grid_area": null,
      "grid_auto_columns": null,
      "grid_auto_flow": null,
      "grid_auto_rows": null,
      "grid_column": null,
      "grid_gap": null,
      "grid_row": null,
      "grid_template_areas": null,
      "grid_template_columns": null,
      "grid_template_rows": null,
      "height": null,
      "justify_content": null,
      "justify_items": null,
      "left": null,
      "margin": null,
      "max_height": null,
      "max_width": null,
      "min_height": null,
      "min_width": null,
      "object_fit": null,
      "object_position": null,
      "order": null,
      "overflow": null,
      "overflow_x": null,
      "overflow_y": null,
      "padding": null,
      "right": null,
      "top": null,
      "visibility": null,
      "width": null
     }
    },
    "8a76aebc005941f299ef111c84bd7074": {
     "model_module": "@jupyter-widgets/controls",
     "model_module_version": "1.5.0",
     "model_name": "HTMLModel",
     "state": {
      "_dom_classes": [],
      "_model_module": "@jupyter-widgets/controls",
      "_model_module_version": "1.5.0",
      "_model_name": "HTMLModel",
      "_view_count": null,
      "_view_module": "@jupyter-widgets/controls",
      "_view_module_version": "1.5.0",
      "_view_name": "HTMLView",
      "description": "",
      "description_tooltip": null,
      "layout": "IPY_MODEL_734a0fafd4c14e2098451c42fde3907b",
      "placeholder": "​",
      "style": "IPY_MODEL_e2165569e23a4e9eb76d0df56355c320",
      "value": "Downloading (…)okenizer_config.json: 100%"
     }
    },
    "8af078b589834fa3be668b29c88cd8c7": {
     "model_module": "@jupyter-widgets/controls",
     "model_module_version": "1.5.0",
     "model_name": "DescriptionStyleModel",
     "state": {
      "_model_module": "@jupyter-widgets/controls",
      "_model_module_version": "1.5.0",
      "_model_name": "DescriptionStyleModel",
      "_view_count": null,
      "_view_module": "@jupyter-widgets/base",
      "_view_module_version": "1.2.0",
      "_view_name": "StyleView",
      "description_width": ""
     }
    },
    "95d9a5311d684006bbf3a57c1a50a61e": {
     "model_module": "@jupyter-widgets/controls",
     "model_module_version": "1.5.0",
     "model_name": "DescriptionStyleModel",
     "state": {
      "_model_module": "@jupyter-widgets/controls",
      "_model_module_version": "1.5.0",
      "_model_name": "DescriptionStyleModel",
      "_view_count": null,
      "_view_module": "@jupyter-widgets/base",
      "_view_module_version": "1.2.0",
      "_view_name": "StyleView",
      "description_width": ""
     }
    },
    "9d3d738c702f40338d0aef8470b7e02a": {
     "model_module": "@jupyter-widgets/controls",
     "model_module_version": "1.5.0",
     "model_name": "FloatProgressModel",
     "state": {
      "_dom_classes": [],
      "_model_module": "@jupyter-widgets/controls",
      "_model_module_version": "1.5.0",
      "_model_name": "FloatProgressModel",
      "_view_count": null,
      "_view_module": "@jupyter-widgets/controls",
      "_view_module_version": "1.5.0",
      "_view_name": "ProgressView",
      "bar_style": "success",
      "description": "",
      "description_tooltip": null,
      "layout": "IPY_MODEL_045e775493a7412097c943865da7a739",
      "max": 483,
      "min": 0,
      "orientation": "horizontal",
      "style": "IPY_MODEL_9d80b0a520b546cb9516175baa9a2c0a",
      "value": 483
     }
    },
    "9d80b0a520b546cb9516175baa9a2c0a": {
     "model_module": "@jupyter-widgets/controls",
     "model_module_version": "1.5.0",
     "model_name": "ProgressStyleModel",
     "state": {
      "_model_module": "@jupyter-widgets/controls",
      "_model_module_version": "1.5.0",
      "_model_name": "ProgressStyleModel",
      "_view_count": null,
      "_view_module": "@jupyter-widgets/base",
      "_view_module_version": "1.2.0",
      "_view_name": "StyleView",
      "bar_color": null,
      "description_width": ""
     }
    },
    "9d978218fa68440ca481b40a5d4b2a35": {
     "model_module": "@jupyter-widgets/base",
     "model_module_version": "1.2.0",
     "model_name": "LayoutModel",
     "state": {
      "_model_module": "@jupyter-widgets/base",
      "_model_module_version": "1.2.0",
      "_model_name": "LayoutModel",
      "_view_count": null,
      "_view_module": "@jupyter-widgets/base",
      "_view_module_version": "1.2.0",
      "_view_name": "LayoutView",
      "align_content": null,
      "align_items": null,
      "align_self": null,
      "border": null,
      "bottom": null,
      "display": null,
      "flex": null,
      "flex_flow": null,
      "grid_area": null,
      "grid_auto_columns": null,
      "grid_auto_flow": null,
      "grid_auto_rows": null,
      "grid_column": null,
      "grid_gap": null,
      "grid_row": null,
      "grid_template_areas": null,
      "grid_template_columns": null,
      "grid_template_rows": null,
      "height": null,
      "justify_content": null,
      "justify_items": null,
      "left": null,
      "margin": null,
      "max_height": null,
      "max_width": null,
      "min_height": null,
      "min_width": null,
      "object_fit": null,
      "object_position": null,
      "order": null,
      "overflow": null,
      "overflow_x": null,
      "overflow_y": null,
      "padding": null,
      "right": null,
      "top": null,
      "visibility": null,
      "width": null
     }
    },
    "a41a3d09b1124e93a3168033ebbcb1ce": {
     "model_module": "@jupyter-widgets/controls",
     "model_module_version": "1.5.0",
     "model_name": "DescriptionStyleModel",
     "state": {
      "_model_module": "@jupyter-widgets/controls",
      "_model_module_version": "1.5.0",
      "_model_name": "DescriptionStyleModel",
      "_view_count": null,
      "_view_module": "@jupyter-widgets/base",
      "_view_module_version": "1.2.0",
      "_view_name": "StyleView",
      "description_width": ""
     }
    },
    "a5993a10b6b740d08019d08e268ffc6e": {
     "model_module": "@jupyter-widgets/base",
     "model_module_version": "1.2.0",
     "model_name": "LayoutModel",
     "state": {
      "_model_module": "@jupyter-widgets/base",
      "_model_module_version": "1.2.0",
      "_model_name": "LayoutModel",
      "_view_count": null,
      "_view_module": "@jupyter-widgets/base",
      "_view_module_version": "1.2.0",
      "_view_name": "LayoutView",
      "align_content": null,
      "align_items": null,
      "align_self": null,
      "border": null,
      "bottom": null,
      "display": null,
      "flex": null,
      "flex_flow": null,
      "grid_area": null,
      "grid_auto_columns": null,
      "grid_auto_flow": null,
      "grid_auto_rows": null,
      "grid_column": null,
      "grid_gap": null,
      "grid_row": null,
      "grid_template_areas": null,
      "grid_template_columns": null,
      "grid_template_rows": null,
      "height": null,
      "justify_content": null,
      "justify_items": null,
      "left": null,
      "margin": null,
      "max_height": null,
      "max_width": null,
      "min_height": null,
      "min_width": null,
      "object_fit": null,
      "object_position": null,
      "order": null,
      "overflow": null,
      "overflow_x": null,
      "overflow_y": null,
      "padding": null,
      "right": null,
      "top": null,
      "visibility": null,
      "width": null
     }
    },
    "a5eb04b4c0294beea94d941aa409f264": {
     "model_module": "@jupyter-widgets/controls",
     "model_module_version": "1.5.0",
     "model_name": "DescriptionStyleModel",
     "state": {
      "_model_module": "@jupyter-widgets/controls",
      "_model_module_version": "1.5.0",
      "_model_name": "DescriptionStyleModel",
      "_view_count": null,
      "_view_module": "@jupyter-widgets/base",
      "_view_module_version": "1.2.0",
      "_view_name": "StyleView",
      "description_width": ""
     }
    },
    "b21327d4223c4504ac204845107bc914": {
     "model_module": "@jupyter-widgets/controls",
     "model_module_version": "1.5.0",
     "model_name": "FloatProgressModel",
     "state": {
      "_dom_classes": [],
      "_model_module": "@jupyter-widgets/controls",
      "_model_module_version": "1.5.0",
      "_model_name": "FloatProgressModel",
      "_view_count": null,
      "_view_module": "@jupyter-widgets/controls",
      "_view_module_version": "1.5.0",
      "_view_name": "ProgressView",
      "bar_style": "success",
      "description": "",
      "description_tooltip": null,
      "layout": "IPY_MODEL_e76ce419c09c4841b531585f0c971a02",
      "max": 28,
      "min": 0,
      "orientation": "horizontal",
      "style": "IPY_MODEL_4746fbdfe7b340368a968d8414c6bfc6",
      "value": 28
     }
    },
    "b4396b989291436ca5fde676f3554a50": {
     "model_module": "@jupyter-widgets/controls",
     "model_module_version": "1.5.0",
     "model_name": "HTMLModel",
     "state": {
      "_dom_classes": [],
      "_model_module": "@jupyter-widgets/controls",
      "_model_module_version": "1.5.0",
      "_model_name": "HTMLModel",
      "_view_count": null,
      "_view_module": "@jupyter-widgets/controls",
      "_view_module_version": "1.5.0",
      "_view_name": "HTMLView",
      "description": "",
      "description_tooltip": null,
      "layout": "IPY_MODEL_141c3863b2fb40908dd94642335a732c",
      "placeholder": "​",
      "style": "IPY_MODEL_a5eb04b4c0294beea94d941aa409f264",
      "value": " 28.0/28.0 [00:00&lt;00:00, 1.51kB/s]"
     }
    },
    "b497cb716c9344af9e8a02c1157f71f1": {
     "model_module": "@jupyter-widgets/controls",
     "model_module_version": "1.5.0",
     "model_name": "FloatProgressModel",
     "state": {
      "_dom_classes": [],
      "_model_module": "@jupyter-widgets/controls",
      "_model_module_version": "1.5.0",
      "_model_name": "FloatProgressModel",
      "_view_count": null,
      "_view_module": "@jupyter-widgets/controls",
      "_view_module_version": "1.5.0",
      "_view_name": "ProgressView",
      "bar_style": "success",
      "description": "",
      "description_tooltip": null,
      "layout": "IPY_MODEL_511dbd6291dc4b058ffdbc1cf39a2052",
      "max": 267967963,
      "min": 0,
      "orientation": "horizontal",
      "style": "IPY_MODEL_2cc7dd10ddb34e7ebdae201ce1b429f9",
      "value": 267967963
     }
    },
    "ba88fa3b6e03406bbab521ecb1d69265": {
     "model_module": "@jupyter-widgets/base",
     "model_module_version": "1.2.0",
     "model_name": "LayoutModel",
     "state": {
      "_model_module": "@jupyter-widgets/base",
      "_model_module_version": "1.2.0",
      "_model_name": "LayoutModel",
      "_view_count": null,
      "_view_module": "@jupyter-widgets/base",
      "_view_module_version": "1.2.0",
      "_view_name": "LayoutView",
      "align_content": null,
      "align_items": null,
      "align_self": null,
      "border": null,
      "bottom": null,
      "display": null,
      "flex": null,
      "flex_flow": null,
      "grid_area": null,
      "grid_auto_columns": null,
      "grid_auto_flow": null,
      "grid_auto_rows": null,
      "grid_column": null,
      "grid_gap": null,
      "grid_row": null,
      "grid_template_areas": null,
      "grid_template_columns": null,
      "grid_template_rows": null,
      "height": null,
      "justify_content": null,
      "justify_items": null,
      "left": null,
      "margin": null,
      "max_height": null,
      "max_width": null,
      "min_height": null,
      "min_width": null,
      "object_fit": null,
      "object_position": null,
      "order": null,
      "overflow": null,
      "overflow_x": null,
      "overflow_y": null,
      "padding": null,
      "right": null,
      "top": null,
      "visibility": null,
      "width": null
     }
    },
    "bc589d57403a479faa2cab6e9642b583": {
     "model_module": "@jupyter-widgets/controls",
     "model_module_version": "1.5.0",
     "model_name": "HTMLModel",
     "state": {
      "_dom_classes": [],
      "_model_module": "@jupyter-widgets/controls",
      "_model_module_version": "1.5.0",
      "_model_name": "HTMLModel",
      "_view_count": null,
      "_view_module": "@jupyter-widgets/controls",
      "_view_module_version": "1.5.0",
      "_view_name": "HTMLView",
      "description": "",
      "description_tooltip": null,
      "layout": "IPY_MODEL_7ad9ef7810c94975a654945c24d80737",
      "placeholder": "​",
      "style": "IPY_MODEL_95d9a5311d684006bbf3a57c1a50a61e",
      "value": "100%"
     }
    },
    "c17c487fb9dd43d28bd2da96bf740c84": {
     "model_module": "@jupyter-widgets/controls",
     "model_module_version": "1.5.0",
     "model_name": "HTMLModel",
     "state": {
      "_dom_classes": [],
      "_model_module": "@jupyter-widgets/controls",
      "_model_module_version": "1.5.0",
      "_model_name": "HTMLModel",
      "_view_count": null,
      "_view_module": "@jupyter-widgets/controls",
      "_view_module_version": "1.5.0",
      "_view_name": "HTMLView",
      "description": "",
      "description_tooltip": null,
      "layout": "IPY_MODEL_2eec35a8c7744479bcfd6b89f1de1646",
      "placeholder": "​",
      "style": "IPY_MODEL_8af078b589834fa3be668b29c88cd8c7",
      "value": "Downloading (…)&quot;pytorch_model.bin&quot;;: 100%"
     }
    },
    "c3811211ef2d4a76ab1a3e0028e1ff60": {
     "model_module": "@jupyter-widgets/controls",
     "model_module_version": "1.5.0",
     "model_name": "DescriptionStyleModel",
     "state": {
      "_model_module": "@jupyter-widgets/controls",
      "_model_module_version": "1.5.0",
      "_model_name": "DescriptionStyleModel",
      "_view_count": null,
      "_view_module": "@jupyter-widgets/base",
      "_view_module_version": "1.2.0",
      "_view_name": "StyleView",
      "description_width": ""
     }
    },
    "cc98e8041f20494a93892d12f8c457dc": {
     "model_module": "@jupyter-widgets/controls",
     "model_module_version": "1.5.0",
     "model_name": "HTMLModel",
     "state": {
      "_dom_classes": [],
      "_model_module": "@jupyter-widgets/controls",
      "_model_module_version": "1.5.0",
      "_model_name": "HTMLModel",
      "_view_count": null,
      "_view_module": "@jupyter-widgets/controls",
      "_view_module_version": "1.5.0",
      "_view_name": "HTMLView",
      "description": "",
      "description_tooltip": null,
      "layout": "IPY_MODEL_72999e679aec4b2daf48b1eb70d4c714",
      "placeholder": "​",
      "style": "IPY_MODEL_2017b177c9254856b3cf19c5148a3248",
      "value": " 318/318 [08:28&lt;00:00,  1.63s/it]"
     }
    },
    "cfeffe6b3d824b3cbd28240ed2344e39": {
     "model_module": "@jupyter-widgets/controls",
     "model_module_version": "1.5.0",
     "model_name": "HTMLModel",
     "state": {
      "_dom_classes": [],
      "_model_module": "@jupyter-widgets/controls",
      "_model_module_version": "1.5.0",
      "_model_name": "HTMLModel",
      "_view_count": null,
      "_view_module": "@jupyter-widgets/controls",
      "_view_module_version": "1.5.0",
      "_view_name": "HTMLView",
      "description": "",
      "description_tooltip": null,
      "layout": "IPY_MODEL_023b009d7c3e4e0c8a9f6826e6af65bc",
      "placeholder": "​",
      "style": "IPY_MODEL_a41a3d09b1124e93a3168033ebbcb1ce",
      "value": " 268M/268M [00:02&lt;00:00, 82.3MB/s]"
     }
    },
    "d8cc19b9fb55442c95742f388480d41a": {
     "model_module": "@jupyter-widgets/base",
     "model_module_version": "1.2.0",
     "model_name": "LayoutModel",
     "state": {
      "_model_module": "@jupyter-widgets/base",
      "_model_module_version": "1.2.0",
      "_model_name": "LayoutModel",
      "_view_count": null,
      "_view_module": "@jupyter-widgets/base",
      "_view_module_version": "1.2.0",
      "_view_name": "LayoutView",
      "align_content": null,
      "align_items": null,
      "align_self": null,
      "border": null,
      "bottom": null,
      "display": null,
      "flex": null,
      "flex_flow": null,
      "grid_area": null,
      "grid_auto_columns": null,
      "grid_auto_flow": null,
      "grid_auto_rows": null,
      "grid_column": null,
      "grid_gap": null,
      "grid_row": null,
      "grid_template_areas": null,
      "grid_template_columns": null,
      "grid_template_rows": null,
      "height": null,
      "justify_content": null,
      "justify_items": null,
      "left": null,
      "margin": null,
      "max_height": null,
      "max_width": null,
      "min_height": null,
      "min_width": null,
      "object_fit": null,
      "object_position": null,
      "order": null,
      "overflow": null,
      "overflow_x": null,
      "overflow_y": null,
      "padding": null,
      "right": null,
      "top": null,
      "visibility": null,
      "width": null
     }
    },
    "dfa17ba5a3b0427ab27a8d979728c0c7": {
     "model_module": "@jupyter-widgets/controls",
     "model_module_version": "1.5.0",
     "model_name": "HBoxModel",
     "state": {
      "_dom_classes": [],
      "_model_module": "@jupyter-widgets/controls",
      "_model_module_version": "1.5.0",
      "_model_name": "HBoxModel",
      "_view_count": null,
      "_view_module": "@jupyter-widgets/controls",
      "_view_module_version": "1.5.0",
      "_view_name": "HBoxView",
      "box_style": "",
      "children": [
       "IPY_MODEL_c17c487fb9dd43d28bd2da96bf740c84",
       "IPY_MODEL_b497cb716c9344af9e8a02c1157f71f1",
       "IPY_MODEL_cfeffe6b3d824b3cbd28240ed2344e39"
      ],
      "layout": "IPY_MODEL_4dc316e967b1426f80badd0c03925b0b"
     }
    },
    "e2165569e23a4e9eb76d0df56355c320": {
     "model_module": "@jupyter-widgets/controls",
     "model_module_version": "1.5.0",
     "model_name": "DescriptionStyleModel",
     "state": {
      "_model_module": "@jupyter-widgets/controls",
      "_model_module_version": "1.5.0",
      "_model_name": "DescriptionStyleModel",
      "_view_count": null,
      "_view_module": "@jupyter-widgets/base",
      "_view_module_version": "1.2.0",
      "_view_name": "StyleView",
      "description_width": ""
     }
    },
    "e5582746f2aa4f62b2fa36d7869a5944": {
     "model_module": "@jupyter-widgets/controls",
     "model_module_version": "1.5.0",
     "model_name": "ProgressStyleModel",
     "state": {
      "_model_module": "@jupyter-widgets/controls",
      "_model_module_version": "1.5.0",
      "_model_name": "ProgressStyleModel",
      "_view_count": null,
      "_view_module": "@jupyter-widgets/base",
      "_view_module_version": "1.2.0",
      "_view_name": "StyleView",
      "bar_color": null,
      "description_width": ""
     }
    },
    "e76ce419c09c4841b531585f0c971a02": {
     "model_module": "@jupyter-widgets/base",
     "model_module_version": "1.2.0",
     "model_name": "LayoutModel",
     "state": {
      "_model_module": "@jupyter-widgets/base",
      "_model_module_version": "1.2.0",
      "_model_name": "LayoutModel",
      "_view_count": null,
      "_view_module": "@jupyter-widgets/base",
      "_view_module_version": "1.2.0",
      "_view_name": "LayoutView",
      "align_content": null,
      "align_items": null,
      "align_self": null,
      "border": null,
      "bottom": null,
      "display": null,
      "flex": null,
      "flex_flow": null,
      "grid_area": null,
      "grid_auto_columns": null,
      "grid_auto_flow": null,
      "grid_auto_rows": null,
      "grid_column": null,
      "grid_gap": null,
      "grid_row": null,
      "grid_template_areas": null,
      "grid_template_columns": null,
      "grid_template_rows": null,
      "height": null,
      "justify_content": null,
      "justify_items": null,
      "left": null,
      "margin": null,
      "max_height": null,
      "max_width": null,
      "min_height": null,
      "min_width": null,
      "object_fit": null,
      "object_position": null,
      "order": null,
      "overflow": null,
      "overflow_x": null,
      "overflow_y": null,
      "padding": null,
      "right": null,
      "top": null,
      "visibility": null,
      "width": null
     }
    },
    "f326a4d5e9f04fb4b8c8e7884d91eb84": {
     "model_module": "@jupyter-widgets/controls",
     "model_module_version": "1.5.0",
     "model_name": "HBoxModel",
     "state": {
      "_dom_classes": [],
      "_model_module": "@jupyter-widgets/controls",
      "_model_module_version": "1.5.0",
      "_model_name": "HBoxModel",
      "_view_count": null,
      "_view_module": "@jupyter-widgets/controls",
      "_view_module_version": "1.5.0",
      "_view_name": "HBoxView",
      "box_style": "",
      "children": [
       "IPY_MODEL_7b90f3d3b5244887a981a4807d07bdc9",
       "IPY_MODEL_9d3d738c702f40338d0aef8470b7e02a",
       "IPY_MODEL_62921dc907db4b16b56727e460013c51"
      ],
      "layout": "IPY_MODEL_62af17abfa814aab9e2e9ffcbe2f84ec"
     }
    }
   }
  }
 },
 "nbformat": 4,
 "nbformat_minor": 1
}
